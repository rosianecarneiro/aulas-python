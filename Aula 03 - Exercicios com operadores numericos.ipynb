{
 "cells": [
  {
   "cell_type": "code",
   "execution_count": 16,
   "id": "229260c4-c590-4e1e-901a-f2d89dc00d00",
   "metadata": {},
   "outputs": [
    {
     "name": "stdin",
     "output_type": "stream",
     "text": [
      "Digite um número: 18\n"
     ]
    },
    {
     "name": "stdout",
     "output_type": "stream",
     "text": [
      "O dobro de 18, vale 36.\n",
      "O triplo de 18, vale 54. \n",
      "A raiz quadrada de 18 é igual a 4.24.\n"
     ]
    }
   ],
   "source": [
    "# EXERCICIOS COM OPERADORES ARITMETICOS\n",
    "\n",
    "n = int(input('Digite um número:'))\n",
    "d = n * 2\n",
    "t = n * 3\n",
    "r = n ** (1/2)\n",
    "\n",
    "print('O dobro de {}, vale {}.'.format(n, d))\n",
    "print('O triplo de {}, vale {}. \\nA raiz quadrada de {} é igual a {:.2f}.'.format(n, t, n, r))"
   ]
  },
  {
   "cell_type": "code",
   "execution_count": 17,
   "id": "89bb2827-cc22-4eb6-abad-5e34da3c5bcd",
   "metadata": {},
   "outputs": [
    {
     "name": "stdin",
     "output_type": "stream",
     "text": [
      "Primeira nota do aluno: 8\n",
      "Segunda nota do aluno: 4\n"
     ]
    },
    {
     "name": "stdout",
     "output_type": "stream",
     "text": [
      "A média entre 8.0 e 4.0 é igual a 6.0.\n"
     ]
    }
   ],
   "source": [
    "n1 = float(input('Primeira nota do aluno:'))\n",
    "n2 = float(input('Segunda nota do aluno:'))\n",
    "m = (n1 + n2) / 2\n",
    "\n",
    "print('A média entre {} e {} é igual a {}.'.format(n1, n2, m))"
   ]
  },
  {
   "cell_type": "code",
   "execution_count": 19,
   "id": "1849d558-74fc-4155-ba08-acdc2895f83e",
   "metadata": {},
   "outputs": [
    {
     "name": "stdin",
     "output_type": "stream",
     "text": [
      "Primeira nota do aluno: 5.5\n",
      "Segunda nota do aluno: 2\n"
     ]
    },
    {
     "name": "stdout",
     "output_type": "stream",
     "text": [
      "A média entre 5.5 e 2.0 é igual a 3.75.\n"
     ]
    }
   ],
   "source": [
    "n1 = float(input('Primeira nota do aluno:'))\n",
    "n2 = float(input('Segunda nota do aluno:'))\n",
    "m = (n1 + n2) / 2\n",
    "\n",
    "print('A média entre {} e {} é igual a {}.'.format(n1, n2, m))"
   ]
  },
  {
   "cell_type": "code",
   "execution_count": 20,
   "id": "d02c5329-bbf2-4c3d-84f5-bde736edf2ce",
   "metadata": {},
   "outputs": [
    {
     "name": "stdin",
     "output_type": "stream",
     "text": [
      "Primeira nota do aluno: 5.5\n",
      "Segunda nota do aluno: 2\n"
     ]
    },
    {
     "name": "stdout",
     "output_type": "stream",
     "text": [
      "A média entre 5.5 e 2.0 é igual a 3.8.\n"
     ]
    }
   ],
   "source": [
    "# PARA ARREDONDAR NUMEROS USAR (:.1f) -> 1 numero apos o ponto flutuante\n",
    "\n",
    "n1 = float(input('Primeira nota do aluno:'))\n",
    "n2 = float(input('Segunda nota do aluno:'))\n",
    "m = (n1 + n2) / 2\n",
    "\n",
    "print('A média entre {:.1f} e {:.1f} é igual a {:.1f}.'.format(n1, n2, m))"
   ]
  },
  {
   "cell_type": "code",
   "execution_count": null,
   "id": "ef7b31e6-da80-4c55-982a-f25f2372035d",
   "metadata": {},
   "outputs": [],
   "source": []
  }
 ],
 "metadata": {
  "kernelspec": {
   "display_name": "Python 3 (ipykernel)",
   "language": "python",
   "name": "python3"
  },
  "language_info": {
   "codemirror_mode": {
    "name": "ipython",
    "version": 3
   },
   "file_extension": ".py",
   "mimetype": "text/x-python",
   "name": "python",
   "nbconvert_exporter": "python",
   "pygments_lexer": "ipython3",
   "version": "3.10.4"
  }
 },
 "nbformat": 4,
 "nbformat_minor": 5
}

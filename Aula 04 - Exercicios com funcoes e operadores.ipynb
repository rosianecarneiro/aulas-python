{
 "cells": [
  {
   "cell_type": "code",
   "execution_count": 6,
   "id": "a780bbbc-6fbb-44bd-940c-f73eb26ef901",
   "metadata": {},
   "outputs": [
    {
     "name": "stdin",
     "output_type": "stream",
     "text": [
      "Uma distância em metros: 100\n"
     ]
    },
    {
     "name": "stdout",
     "output_type": "stream",
     "text": [
      "A medida de 100.0m corresponde a 10000.0cm e 100000.0mm\n"
     ]
    }
   ],
   "source": [
    "#CONVERSOR DE MEDIDAS\n",
    "\n",
    "# PROGRAMA QUE LÊ UM VALOR EM METROS E O EXIBA CONVERTIDO EM CENTÍMETROS E MILÍMETROS\n",
    "\n",
    "medida = float(input('Uma distância em metros:'))\n",
    "cm = medida * 100\n",
    "mm = medida * 1000\n",
    "\n",
    "print('A medida de {}m corresponde a {}cm e {}mm'.format(medida, cm, mm))"
   ]
  },
  {
   "cell_type": "code",
   "execution_count": 4,
   "id": "81cd86ff-d7a0-4e0f-ad6b-894ec1d0f669",
   "metadata": {},
   "outputs": [
    {
     "name": "stdin",
     "output_type": "stream",
     "text": [
      "Uma distância em metros: 2.5\n"
     ]
    },
    {
     "name": "stdout",
     "output_type": "stream",
     "text": [
      "A medida de 2.5m corresponde a 250cm e 2500mm\n"
     ]
    }
   ],
   "source": [
    "medida = float(input('Uma distância em metros:'))\n",
    "cm = medida * 100\n",
    "mm = medida * 1000\n",
    "\n",
    "print('A medida de {}m corresponde a {:.0f}cm e {:.0f}mm'.format(medida, cm, mm))"
   ]
  },
  {
   "cell_type": "code",
   "execution_count": 10,
   "id": "9f350b42-d467-4bec-a242-26187b520706",
   "metadata": {},
   "outputs": [
    {
     "name": "stdin",
     "output_type": "stream",
     "text": [
      "Digite um número para ver sua tabuada: 7\n"
     ]
    },
    {
     "name": "stdout",
     "output_type": "stream",
     "text": [
      "____________\n",
      "7 x 1 = 7\n",
      "7 x 2 = 14\n",
      "7 x 3 = 21\n",
      "7 x 4 = 28\n",
      "7 x 5 = 35\n",
      "7 x 6 = 42\n",
      "7 x 7 = 49\n",
      "7 x 8 = 56\n",
      "7 x 9 = 63\n",
      "7 x 10 = 70\n",
      "____________\n"
     ]
    }
   ],
   "source": [
    "#TABUADA\n",
    "\n",
    "#  PROGRAMA QUE LÊ UM NÚMERO INTEIRO QUALQUER E MOSTRE NA TELA A SUA TABUADA.\n",
    "\n",
    "num = int(input('Digite um número para ver sua tabuada:'))\n",
    "\n",
    "print('_' * 12)\n",
    "print('{} x {} = {}'.format(num, 1, num * 1))\n",
    "print('{} x {} = {}'.format(num, 2, num * 2))\n",
    "print('{} x {} = {}'.format(num, 3, num * 3))\n",
    "print('{} x {} = {}'.format(num, 4, num * 4))\n",
    "print('{} x {} = {}'.format(num, 5, num * 5))\n",
    "print('{} x {} = {}'.format(num, 6, num * 6))\n",
    "print('{} x {} = {}'.format(num, 7, num * 7))\n",
    "print('{} x {} = {}'.format(num, 8, num * 8))\n",
    "print('{} x {} = {}'.format(num, 9, num * 9))\n",
    "print('{} x {} = {}'.format(num, 10, num * 10))\n",
    "print('_' * 12)"
   ]
  },
  {
   "cell_type": "code",
   "execution_count": 14,
   "id": "18a26955-5b4e-496c-b53b-dcc84f5164c1",
   "metadata": {},
   "outputs": [
    {
     "name": "stdin",
     "output_type": "stream",
     "text": [
      "Quanto dinheiro você tem na carteira? R$ 125.32\n"
     ]
    },
    {
     "name": "stdout",
     "output_type": "stream",
     "text": [
      "Com R$125.32 você pode comprar US$24.19\n"
     ]
    }
   ],
   "source": [
    "#CONVERSOR DE MOEDAS\n",
    "\n",
    "#  PROGRAMA QUE LÊ QUANTO DINHEIRO UMA PESSOA TEM NA CARTEIRA E MOSTRE QUANTOS DÓLARES ELA PODE COMPRAR\n",
    "# Considere US$1.00 = R$5.18\n",
    "\n",
    "real = float(input('Quanto dinheiro você tem na carteira? R$'))\n",
    "dolar = real / 5.18\n",
    "\n",
    "print('Com R${:.2f} você pode comprar US${:.2f}'.format(real, dolar))"
   ]
  },
  {
   "cell_type": "code",
   "execution_count": 16,
   "id": "99eae631-36a4-458f-b96c-01857b0f72ed",
   "metadata": {},
   "outputs": [
    {
     "name": "stdin",
     "output_type": "stream",
     "text": [
      "Largura da parede: 3\n",
      "Altura da parede: 2\n"
     ]
    },
    {
     "name": "stdout",
     "output_type": "stream",
     "text": [
      "Sua parede tem a dimensão de 3.0 x 2.0 e sua área é de 6.0m².\n",
      "Para pintar essa parede, você precisará de 3.0l de tinta.\n"
     ]
    }
   ],
   "source": [
    "# PINTANDO PAREDE\n",
    "\n",
    "# PROGRAMA QUE LÊ A LARGURA E A ALTURA DE UMA PAREDE EM METROS, CALCULE A SUA ÁREA E A QUANTIDADE DE TINTA NECESSÁRIA PARA PINTÁ-LA\n",
    "# 1l = 2m²\n",
    "\n",
    "larg = float(input('Largura da parede:'))\n",
    "alt = float(input('Altura da parede:'))\n",
    "area = larg * alt\n",
    "tinta = area / 2\n",
    "\n",
    "print('Sua parede tem a dimensão de {} x {} e sua área é de {}m².'.format(larg, alt, area))\n",
    "print('Para pintar essa parede, você precisará de {}l de tinta.'.format(tinta))"
   ]
  },
  {
   "cell_type": "code",
   "execution_count": 17,
   "id": "abcc2d7c-9fc4-433f-9f4a-5dfbffd14b9f",
   "metadata": {},
   "outputs": [
    {
     "name": "stdin",
     "output_type": "stream",
     "text": [
      "Largura da parede: 5\n",
      "Altura da parede: 5\n"
     ]
    },
    {
     "name": "stdout",
     "output_type": "stream",
     "text": [
      "Sua parede tem a dimensão de 5.0 x 5.0 e sua área é de 25.0m².\n",
      "Para pintar essa parede, você precisará de 12.5l de tinta.\n"
     ]
    }
   ],
   "source": [
    "larg = float(input('Largura da parede:'))\n",
    "alt = float(input('Altura da parede:'))\n",
    "area = larg * alt\n",
    "tinta = area / 2\n",
    "\n",
    "print('Sua parede tem a dimensão de {} x {} e sua área é de {}m².'.format(larg, alt, area))\n",
    "print('Para pintar essa parede, você precisará de {}l de tinta.'.format(tinta))"
   ]
  },
  {
   "cell_type": "code",
   "execution_count": 18,
   "id": "9dfc1a8f-5f80-47f9-b141-cbafd4829ea3",
   "metadata": {},
   "outputs": [
    {
     "name": "stdin",
     "output_type": "stream",
     "text": [
      "Qual é o preço do produto? R$ 546\n"
     ]
    },
    {
     "name": "stdout",
     "output_type": "stream",
     "text": [
      "O produto que custava R$546.0, na promoção com desconto de 5% vai custar R$518.7\n"
     ]
    }
   ],
   "source": [
    "# CALCULANDO DESCONTOS\n",
    "\n",
    "# ALGORTIMO QUE LÊ O PREÇO DE UM PRODUTO E MOSTRE O NOVO PREÇO COM 5% DE DESCPNTO\n",
    "\n",
    "preco = float(input('Qual é o preço do produto? R$'))\n",
    "novo = preco - (preco * 5 / 100)\n",
    "\n",
    "print('O produto que custava R${}, na promoção com desconto de 5% vai custar R${}'.format(preco, novo))"
   ]
  },
  {
   "cell_type": "code",
   "execution_count": 19,
   "id": "9786876e-668c-4717-95a4-04afadadea63",
   "metadata": {},
   "outputs": [
    {
     "name": "stdin",
     "output_type": "stream",
     "text": [
      "Qual é o preço do produto? R$ 100\n"
     ]
    },
    {
     "name": "stdout",
     "output_type": "stream",
     "text": [
      "O produto que custava R$100.0, na promoção com desconto de 5% vai custar R$95.0\n"
     ]
    }
   ],
   "source": [
    "preco = float(input('Qual é o preço do produto? R$'))\n",
    "novo = preco - (preco * 5 / 100)\n",
    "\n",
    "print('O produto que custava R${}, na promoção com desconto de 5% vai custar R${}'.format(preco, novo))"
   ]
  },
  {
   "cell_type": "code",
   "execution_count": 20,
   "id": "d6edb4d3-8db5-4413-bc3a-57bb66c5ab4c",
   "metadata": {},
   "outputs": [
    {
     "name": "stdin",
     "output_type": "stream",
     "text": [
      "Qual é o salário do funcionário? R$ 3500\n"
     ]
    },
    {
     "name": "stdout",
     "output_type": "stream",
     "text": [
      "O funcionário que ganhava R$3500.00, com 15% de aumento, passa a receber R$4025.00\n"
     ]
    }
   ],
   "source": [
    "# REAJUSTE SALARIAL\n",
    "\n",
    "# ALGORTIMO QUE LÊ O SALÁRIO E MOSTRE O SALÁRIO COM 15% DE AUMENTO\n",
    "\n",
    "salario = float(input('Qual é o salário do funcionário? R$'))\n",
    "novo = salario + (salario * 15 / 100)\n",
    "\n",
    "print('O funcionário que ganhava R${:.2f}, com 15% de aumento, passa a receber R${:.2f}'.format(salario, novo))"
   ]
  },
  {
   "cell_type": "code",
   "execution_count": 21,
   "id": "7a27eec9-2af2-4f67-a90a-1fe3b43344cf",
   "metadata": {},
   "outputs": [
    {
     "name": "stdin",
     "output_type": "stream",
     "text": [
      "Qual é o salário do funcionário? R$ 1000\n"
     ]
    },
    {
     "name": "stdout",
     "output_type": "stream",
     "text": [
      "O funcionário que ganhava R$1000.00, com 15% de aumento, passa a receber R$1150.00\n"
     ]
    }
   ],
   "source": [
    "salario = float(input('Qual é o salário do funcionário? R$'))\n",
    "novo = salario + (salario * 15 / 100)\n",
    "\n",
    "print('O funcionário que ganhava R${:.2f}, com 15% de aumento, passa a receber R${:.2f}'.format(salario, novo))"
   ]
  },
  {
   "cell_type": "code",
   "execution_count": 24,
   "id": "9879e999-011b-4353-82b9-111ac5e76ac0",
   "metadata": {},
   "outputs": [
    {
     "name": "stdin",
     "output_type": "stream",
     "text": [
      "Informe a temperatura em °C: 45\n"
     ]
    },
    {
     "name": "stdout",
     "output_type": "stream",
     "text": [
      "A temperatura de 45.0°C corresponde a 113.0°F\n"
     ]
    }
   ],
   "source": [
    "# CONVERSOR DE TEMPERATURAS\n",
    "\n",
    "# PROGRAMA QUE CONVERTA TEMPERATURA EM GRAUS CELSIUS PARA GRAUS FAHRENHEIT\n",
    "\n",
    "c = float(input('Informe a temperatura em °C:'))\n",
    "f = (c * 9 / 5) + 32\n",
    "\n",
    "print('A temperatura de {}°C corresponde a {}°F'.format(c, f))"
   ]
  },
  {
   "cell_type": "code",
   "execution_count": 25,
   "id": "1674a2f9-2fe8-4e54-9591-28808f31ec5f",
   "metadata": {},
   "outputs": [
    {
     "name": "stdin",
     "output_type": "stream",
     "text": [
      "Informe a temperatura em °C: 53\n"
     ]
    },
    {
     "name": "stdout",
     "output_type": "stream",
     "text": [
      "A temperatura de 53.0°C corresponde a 326.15°F\n"
     ]
    }
   ],
   "source": [
    "c = float(input('Informe a temperatura em °C:'))\n",
    "k = c + 273.15\n",
    "\n",
    "print('A temperatura de {}°C corresponde a {}°F'.format(c, k))"
   ]
  },
  {
   "cell_type": "code",
   "execution_count": 26,
   "id": "3c38e8bf-e7f6-4443-b52d-d90460d62f4d",
   "metadata": {},
   "outputs": [
    {
     "name": "stdin",
     "output_type": "stream",
     "text": [
      "Quantos dias alugados? 8\n",
      "Quantos Km rodados? 720\n"
     ]
    },
    {
     "name": "stdout",
     "output_type": "stream",
     "text": [
      "O total a pagar é de 588.0\n"
     ]
    }
   ],
   "source": [
    "# ALUGUEL DE CARROS\n",
    "\n",
    "# PROGRAMA QUE PERGUNTE A QUANTIDADE DE KM DE CARRO ALUGADO E OS DIAS ALUGADOS\n",
    "# R$60/dia e R$0.15/km rodado\n",
    "\n",
    "d = float(input('Quantos dias alugados?'))\n",
    "km = float(input('Quantos Km rodados?'))\n",
    "t = (d * 60) + (km * 0.15)\n",
    "\n",
    "\n",
    "print('O total a pagar é de {}'.format(t))"
   ]
  },
  {
   "cell_type": "code",
   "execution_count": 28,
   "id": "27cc5460-c44d-480d-acef-6cb32b791466",
   "metadata": {},
   "outputs": [
    {
     "name": "stdin",
     "output_type": "stream",
     "text": [
      "Quantos dias alugados? 3\n",
      "Quantos Km rodados? 350\n"
     ]
    },
    {
     "name": "stdout",
     "output_type": "stream",
     "text": [
      "O total a pagar é de 232.50\n"
     ]
    }
   ],
   "source": [
    "d = float(input('Quantos dias alugados?'))\n",
    "km = float(input('Quantos Km rodados?'))\n",
    "t = (d * 60) + (km * 0.15)\n",
    "\n",
    "\n",
    "print('O total a pagar é de {:.2f}'.format(t))"
   ]
  },
  {
   "cell_type": "code",
   "execution_count": null,
   "id": "3ceeb772-94e8-4e49-95c6-b18e39c4a6ea",
   "metadata": {},
   "outputs": [],
   "source": []
  }
 ],
 "metadata": {
  "kernelspec": {
   "display_name": "Python 3 (ipykernel)",
   "language": "python",
   "name": "python3"
  },
  "language_info": {
   "codemirror_mode": {
    "name": "ipython",
    "version": 3
   },
   "file_extension": ".py",
   "mimetype": "text/x-python",
   "name": "python",
   "nbconvert_exporter": "python",
   "pygments_lexer": "ipython3",
   "version": "3.10.4"
  }
 },
 "nbformat": 4,
 "nbformat_minor": 5
}

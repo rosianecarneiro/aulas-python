{
 "cells": [
  {
   "cell_type": "markdown",
   "id": "82ff1c57-d3d7-4362-874b-133dab1f8fd9",
   "metadata": {},
   "source": [
    "**Primeiros Passos**"
   ]
  },
  {
   "cell_type": "markdown",
   "id": "52a1820a-3a96-420d-b8cf-83014ae599c5",
   "metadata": {},
   "source": [
    " ~/.local/bin/jupyter lab\n",
    "\n",
    " iniciar jupyterlab no navegador\n"
   ]
  },
  {
   "cell_type": "code",
   "execution_count": 1,
   "id": "5a86e631-a928-40ce-9190-c459e8e62240",
   "metadata": {},
   "outputs": [
    {
     "name": "stdout",
     "output_type": "stream",
     "text": [
      "olá, mundo!\n"
     ]
    }
   ],
   "source": [
    "print('olá, mundo!')\n",
    "\n",
    "#toda mensagem deve estar entre aspas, seja simples ou duplas"
   ]
  },
  {
   "cell_type": "code",
   "execution_count": 7,
   "id": "ad53abc7-deea-43a1-a88a-c1d47ebc160c",
   "metadata": {},
   "outputs": [
    {
     "name": "stdout",
     "output_type": "stream",
     "text": [
      "11\n",
      "74\n"
     ]
    }
   ],
   "source": [
    "print(7+4)\n",
    "\n",
    "print('7'+'4')"
   ]
  },
  {
   "cell_type": "code",
   "execution_count": 8,
   "id": "fb122b59-5ca3-493b-bb53-81503657051c",
   "metadata": {},
   "outputs": [
    {
     "data": {
      "text/plain": [
       "11"
      ]
     },
     "execution_count": 8,
     "metadata": {},
     "output_type": "execute_result"
    }
   ],
   "source": [
    "7+4\n",
    "\n",
    "#resultado nao esta entre aspas, entao é um numero e nao mensagem"
   ]
  },
  {
   "cell_type": "code",
   "execution_count": 9,
   "id": "6ad89714-8d06-47a1-a4fd-cd1486f6c96e",
   "metadata": {},
   "outputs": [
    {
     "data": {
      "text/plain": [
       "'74'"
      ]
     },
     "execution_count": 9,
     "metadata": {},
     "output_type": "execute_result"
    }
   ],
   "source": [
    "'7'+'4'\n",
    "\n",
    "#resultado esta entre aspas entao é uma mensagem"
   ]
  },
  {
   "cell_type": "code",
   "execution_count": 10,
   "id": "33334a38-1e2a-4495-a03d-63f704001c27",
   "metadata": {},
   "outputs": [
    {
     "ename": "TypeError",
     "evalue": "can only concatenate str (not \"int\") to str",
     "output_type": "error",
     "traceback": [
      "\u001b[0;31m---------------------------------------------------------------------------\u001b[0m",
      "\u001b[0;31mTypeError\u001b[0m                                 Traceback (most recent call last)",
      "Input \u001b[0;32mIn [10]\u001b[0m, in \u001b[0;36m<cell line: 1>\u001b[0;34m()\u001b[0m\n\u001b[0;32m----> 1\u001b[0m \u001b[38;5;28mprint\u001b[39m(\u001b[38;5;124;43m'\u001b[39;49m\u001b[38;5;124;43mOlá\u001b[39;49m\u001b[38;5;124;43m'\u001b[39;49m\u001b[43m \u001b[49m\u001b[38;5;241;43m+\u001b[39;49m\u001b[43m \u001b[49m\u001b[38;5;241;43m5\u001b[39;49m)\n",
      "\u001b[0;31mTypeError\u001b[0m: can only concatenate str (not \"int\") to str"
     ]
    }
   ],
   "source": [
    "print('Olá' + 5)\n",
    "#dá erro pq olá é mensagem e 5 é numero, entre eles nao pode sinal de +\n"
   ]
  },
  {
   "cell_type": "code",
   "execution_count": 11,
   "id": "e6365a81-a07e-400f-9efa-5b63f46abd77",
   "metadata": {},
   "outputs": [
    {
     "name": "stdout",
     "output_type": "stream",
     "text": [
      "Olá 5\n"
     ]
    }
   ],
   "source": [
    "print('Olá', 5)\n",
    "#pra duas coisas diferentes tem que ser virgula, no caso é mensagem e numero\n"
   ]
  },
  {
   "cell_type": "code",
   "execution_count": 2,
   "id": "5dff4dde-b64e-4efe-b8ca-c85d322c4f41",
   "metadata": {},
   "outputs": [
    {
     "name": "stdout",
     "output_type": "stream",
     "text": [
      "Guanabara 25 75.8\n"
     ]
    }
   ],
   "source": [
    "#variaveis -> toda variavel é um objeto, um objeto é um pouco mais que um objeto e pode receber valores\n",
    "# = significa receber/ atribuir\n",
    "\n",
    "nome = 'Guanabara'\n",
    "idade = 25\n",
    "peso = 75.8\n",
    "\n",
    "print(nome, idade, peso)"
   ]
  },
  {
   "cell_type": "code",
   "execution_count": 19,
   "id": "91133715-ebde-455e-8d67-b06783ec52de",
   "metadata": {},
   "outputs": [
    {
     "name": "stdin",
     "output_type": "stream",
     "text": [
      "Qual é o seu nome? Rosiane\n"
     ]
    }
   ],
   "source": [
    "#cria interacao entre programa e usuario\n",
    "\n",
    "nome = input('Qual é o seu nome?')\n",
    "#idade = input('Quantos anos você tem?')\n",
    "#peso = input('Quanto você pesa?')\n",
    "\n",
    "#print(nome, idade, peso)\n"
   ]
  },
  {
   "cell_type": "code",
   "execution_count": 20,
   "id": "c399f0b4-c321-4745-b5a2-9bc1fa5bccbd",
   "metadata": {},
   "outputs": [
    {
     "name": "stdin",
     "output_type": "stream",
     "text": [
      "Quantos anos você tem? 29\n"
     ]
    }
   ],
   "source": [
    "idade = input('Quantos anos você tem?')"
   ]
  },
  {
   "cell_type": "code",
   "execution_count": 21,
   "id": "09f0cc01-c233-4189-b54d-5e698f384e96",
   "metadata": {},
   "outputs": [
    {
     "name": "stdin",
     "output_type": "stream",
     "text": [
      "Quanto você pesa? 65\n"
     ]
    }
   ],
   "source": [
    "peso = input('Quanto você pesa?')"
   ]
  },
  {
   "cell_type": "code",
   "execution_count": 22,
   "id": "c050ee3b-df89-48ba-afe2-972d738a3a00",
   "metadata": {},
   "outputs": [
    {
     "name": "stdout",
     "output_type": "stream",
     "text": [
      "Rosiane 29 65\n"
     ]
    }
   ],
   "source": [
    "print(nome, idade, peso)"
   ]
  },
  {
   "cell_type": "code",
   "execution_count": 23,
   "id": "9c2c985d-2998-4bd9-b8e0-3d0a5efc18f1",
   "metadata": {},
   "outputs": [
    {
     "name": "stdin",
     "output_type": "stream",
     "text": [
      "Qual é o seu nome? Rosiane\n"
     ]
    },
    {
     "name": "stdout",
     "output_type": "stream",
     "text": [
      "Olá Rosiane prazer em te conhecer\n"
     ]
    }
   ],
   "source": [
    "#DESAFIO 01\n",
    "    \n",
    "nome = input('Qual é o seu nome?')\n",
    "\n",
    "print('Olá', nome, 'prazer em te conhecer')"
   ]
  },
  {
   "cell_type": "code",
   "execution_count": 30,
   "id": "a1b0f794-c77e-4e3a-8b68-7aab8f1cfa0e",
   "metadata": {},
   "outputs": [
    {
     "name": "stdin",
     "output_type": "stream",
     "text": [
      "Que dia você nasceu? 12\n",
      "Que mês você nasceu? Maio\n",
      "Que ano você nasceu? 1993\n"
     ]
    },
    {
     "name": "stdout",
     "output_type": "stream",
     "text": [
      "Você nasceu no dia 12 de Maio de 1993 . Estou correto?\n"
     ]
    }
   ],
   "source": [
    "#DESAFIO 02\n",
    "    \n",
    "dia = input('Que dia você nasceu?')\n",
    "mes = input('Que mês você nasceu?')\n",
    "ano = input('Que ano você nasceu?')\n",
    "\n",
    "print('Você nasceu no dia', dia, 'de', mes, 'de', ano,'.','Estou correto?')"
   ]
  },
  {
   "cell_type": "code",
   "execution_count": 13,
   "id": "4d0f9b6b-7612-4c16-8624-153756e8ffe5",
   "metadata": {},
   "outputs": [
    {
     "name": "stdin",
     "output_type": "stream",
     "text": [
      "Digite um número: 7\n",
      "Digite mais um número: 5\n"
     ]
    },
    {
     "name": "stdout",
     "output_type": "stream",
     "text": [
      "A soma vale 75\n"
     ]
    }
   ],
   "source": [
    "#DESAFIO 03 - PARTE01\n",
    "    \n",
    "n1 = input('Digite um número:')\n",
    "n2 = input('Digite mais um número:')\n",
    "s = n1 + n2\n",
    "\n",
    "print('A soma vale', s)"
   ]
  },
  {
   "cell_type": "code",
   "execution_count": 14,
   "id": "eb850546-5588-4665-bb9d-0de86ab94859",
   "metadata": {},
   "outputs": [
    {
     "name": "stdin",
     "output_type": "stream",
     "text": [
      "Primeiro número: 7\n",
      "Segundo número: 5\n"
     ]
    },
    {
     "name": "stdout",
     "output_type": "stream",
     "text": [
      "Resultado 12\n"
     ]
    }
   ],
   "source": [
    "#DESAFIO 03 - PARTE02\n",
    "    \n",
    "numero1 = input('Primeiro número:')\n",
    "numero2 = input('Segundo número:')\n",
    "soma = int(numero1) + int(numero2)\n",
    "\n",
    "print('Resultado', soma)"
   ]
  }
 ],
 "metadata": {
  "kernelspec": {
   "display_name": "Python 3 (ipykernel)",
   "language": "python",
   "name": "python3"
  },
  "language_info": {
   "codemirror_mode": {
    "name": "ipython",
    "version": 3
   },
   "file_extension": ".py",
   "mimetype": "text/x-python",
   "name": "python",
   "nbconvert_exporter": "python",
   "pygments_lexer": "ipython3",
   "version": "3.10.4"
  }
 },
 "nbformat": 4,
 "nbformat_minor": 5
}

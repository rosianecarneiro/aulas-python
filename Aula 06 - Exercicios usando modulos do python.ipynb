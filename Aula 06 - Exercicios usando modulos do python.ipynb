{
 "cells": [
  {
   "cell_type": "markdown",
   "id": "b58ac7bd-8393-4061-b0b5-3478ba911c8c",
   "metadata": {},
   "source": [
    "**Exercícios**"
   ]
  },
  {
   "cell_type": "code",
   "execution_count": 7,
   "id": "f8fb7a04-be08-4f32-ba5f-1ace5d64d891",
   "metadata": {},
   "outputs": [
    {
     "name": "stdin",
     "output_type": "stream",
     "text": [
      "Digite um valor: 3.141518\n"
     ]
    },
    {
     "name": "stdout",
     "output_type": "stream",
     "text": [
      "O valor digitado foi 3.141518 e sua porção inteira é 3\n"
     ]
    }
   ],
   "source": [
    "#  QUEBRANDO UM NÚMERO\n",
    "# PROGRAMA QUE LÊ UM NÚMERO REAL E MOSTRE A PORÇÃO INTEIRA\n",
    "\n",
    "import math\n",
    "\n",
    "n = float(input('Digite um valor:'))\n",
    "\n",
    "print('O valor digitado foi {} e sua porção inteira é {}'.format(n, math.trunc(n)))\n"
   ]
  },
  {
   "cell_type": "code",
   "execution_count": 6,
   "id": "6ef0729a-c4e3-4b56-9078-75b5209abd48",
   "metadata": {},
   "outputs": [
    {
     "name": "stdin",
     "output_type": "stream",
     "text": [
      "Comprimento do cateto oposto: 3.5\n",
      "Comprimento do cateto adjacente: 4.75\n"
     ]
    },
    {
     "name": "stdout",
     "output_type": "stream",
     "text": [
      "A hipotenusa vai medir 5.90\n"
     ]
    }
   ],
   "source": [
    "# TRIGONOMETRIA\n",
    "\n",
    "# PROGRAMA PARA LER CATETOS OPOSTO E ADJACENTE\n",
    "\n",
    "co = float(input('Comprimento do cateto oposto:'))\n",
    "ca = float(input('Comprimento do cateto adjacente:'))\n",
    "hip = math.hypot(co, ca)\n",
    "\n",
    "print('A hipotenusa vai medir {:.2f}'.format(hip))"
   ]
  },
  {
   "cell_type": "code",
   "execution_count": 13,
   "id": "32e4d8a1-16c1-4be6-aca9-07557247aa74",
   "metadata": {},
   "outputs": [
    {
     "name": "stdin",
     "output_type": "stream",
     "text": [
      "Digite o ângulo que você deseja: 30\n"
     ]
    },
    {
     "name": "stdout",
     "output_type": "stream",
     "text": [
      "O ângulo de 30.0 tem o SENO de 0.50\n",
      "O ângulo de 30.0 tem o COSSENO de 0.87.\n",
      "O ângulo de 30.0 tem a TANGENTE de 0.58.\n"
     ]
    }
   ],
   "source": [
    "# SENO, COSSENO E TANGENTE\n",
    "\n",
    "# PROGRAMA PRA LER ANGULO E MOSTRAR VALORES DE SEN, COS E TAN\n",
    "\n",
    "ang = float(input('Digite o ângulo que você deseja:'))\n",
    "sen = math.sin(math.radians(ang))\n",
    "print('O ângulo de {} tem o SENO de {:.2f}'.format(ang, sen))\n",
    "\n",
    "cos = math.cos(math.radians(ang))\n",
    "print('O ângulo de {} tem o COSSENO de {:.2f}.'.format(ang, cos))\n",
    "\n",
    "tan = math.tan(math.radians(ang))\n",
    "print('O ângulo de {} tem a TANGENTE de {:.2f}.'.format(ang, tan))\n"
   ]
  },
  {
   "cell_type": "code",
   "execution_count": 18,
   "id": "99fdbc37-c238-400f-adbb-f51eadd439be",
   "metadata": {},
   "outputs": [],
   "source": [
    "import random #importa todas as funçoes\n",
    "\n",
    "from random import choice # como usa apenas uma funcao, só importa ela\n"
   ]
  },
  {
   "cell_type": "code",
   "execution_count": 23,
   "id": "0ab5e32a-4635-4269-9101-aac8010a2a40",
   "metadata": {},
   "outputs": [
    {
     "name": "stdin",
     "output_type": "stream",
     "text": [
      "Primeiro aluno: Ana\n",
      "Segundo aluno: Paulo\n",
      "Terceiro aluno: Carlos\n",
      "Quarto aluno: Maria\n"
     ]
    },
    {
     "name": "stdout",
     "output_type": "stream",
     "text": [
      "O aluno escolhido foi Carlos\n"
     ]
    }
   ],
   "source": [
    "# SORTEANDO ITEM ALEATÓRIO\n",
    "\n",
    "#SORTEAR UM ALUNO \n",
    "from random import choice\n",
    "\n",
    "a1 = str(input('Primeiro aluno:'))\n",
    "a2 = str(input('Segundo aluno:'))\n",
    "a3 = str(input('Terceiro aluno:'))\n",
    "a4 = str(input('Quarto aluno:'))\n",
    "\n",
    "lista = [a1, a2, a3, a4] #lista fica entre []\n",
    "escolhido = choice(lista)\n",
    "\n",
    "print('O aluno escolhido foi {}'.format(escolhido))"
   ]
  },
  {
   "cell_type": "code",
   "execution_count": 22,
   "id": "82a9363b-c95d-452e-a035-d3f27a80fb80",
   "metadata": {},
   "outputs": [
    {
     "name": "stdin",
     "output_type": "stream",
     "text": [
      "Primeiro aluno: Ana\n",
      "Segundo aluno: Paulo\n",
      "Terceiro aluno: Carlos\n",
      "Quarto aluno: Maria\n"
     ]
    },
    {
     "name": "stdout",
     "output_type": "stream",
     "text": [
      "A ordem de apresentação será:\n",
      "['Carlos', 'Ana', 'Paulo', 'Maria']\n"
     ]
    }
   ],
   "source": [
    "# ORDEM NA LISTA\n",
    "\n",
    "# SORTEAR A ORDEM DE APRESENTACAO\n",
    "from random import shuffle\n",
    "\n",
    "a1 = str(input('Primeiro aluno:'))\n",
    "a2 = str(input('Segundo aluno:'))\n",
    "a3 = str(input('Terceiro aluno:'))\n",
    "a4 = str(input('Quarto aluno:'))\n",
    "\n",
    "lista = [a1, a2, a3, a4]\n",
    "shuffle(lista)\n",
    "\n",
    "print('A ordem de apresentação será:')\n",
    "print(lista)"
   ]
  },
  {
   "cell_type": "code",
   "execution_count": null,
   "id": "39356b05-2672-4db0-b787-b6bc86113721",
   "metadata": {},
   "outputs": [],
   "source": []
  }
 ],
 "metadata": {
  "kernelspec": {
   "display_name": "Python 3 (ipykernel)",
   "language": "python",
   "name": "python3"
  },
  "language_info": {
   "codemirror_mode": {
    "name": "ipython",
    "version": 3
   },
   "file_extension": ".py",
   "mimetype": "text/x-python",
   "name": "python",
   "nbconvert_exporter": "python",
   "pygments_lexer": "ipython3",
   "version": "3.10.4"
  }
 },
 "nbformat": 4,
 "nbformat_minor": 5
}

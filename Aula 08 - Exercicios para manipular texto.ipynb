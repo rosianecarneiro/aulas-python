{
 "cells": [
  {
   "cell_type": "markdown",
   "id": "0567cfac-2228-4cbc-b4aa-3367701a8247",
   "metadata": {},
   "source": [
    "**Exercicios**"
   ]
  },
  {
   "cell_type": "code",
   "execution_count": 1,
   "id": "c312d469-6a6c-4ae7-8b3c-21fc467aad34",
   "metadata": {},
   "outputs": [
    {
     "name": "stdin",
     "output_type": "stream",
     "text": [
      "Digite seu nome completo: Paulo de Souza Marques\n"
     ]
    },
    {
     "name": "stdout",
     "output_type": "stream",
     "text": [
      "Analisando seu nome...\n",
      "Seu nome em maiúsculas é PAULO DE SOUZA MARQUES\n",
      "Seu nome em minúsculas é paulo de souza marques\n",
      "Seu nome tem ao todo 19 letras\n",
      "Seu primeiro nome tem 5 letras\n"
     ]
    }
   ],
   "source": [
    "nome = str(input('Digite seu nome completo:')).strip() # eliminar espaços\n",
    "\n",
    "print('Analisando seu nome...')\n",
    "print('Seu nome em maiúsculas é {}'.format(nome.upper()))\n",
    "print('Seu nome em minúsculas é {}'.format(nome.lower()))\n",
    "print('Seu nome tem ao todo {} letras'.format(len(nome) - nome.count(' '))) # contar caracteres menos quantos espaços tem\n",
    "print('Seu primeiro nome tem {} letras'.format(nome.find(' ')))\n"
   ]
  },
  {
   "cell_type": "code",
   "execution_count": 7,
   "id": "5e4966e9-4df1-4408-86fc-1b957f2c6fd5",
   "metadata": {},
   "outputs": [
    {
     "name": "stdout",
     "output_type": "stream",
     "text": [
      "Seu primeiro nome é Paulo e ele tem 5 letras\n"
     ]
    }
   ],
   "source": [
    "separa = nome.split()\n",
    "\n",
    "#print(separa)\n",
    "print('Seu primeiro nome é {} e ele tem {} letras'.format(separa[0], len(separa[0])))      "
   ]
  },
  {
   "cell_type": "markdown",
   "id": "25b849f5-b3c0-44c6-87cc-7aaf345b5fd5",
   "metadata": {},
   "source": [
    "PROGRAMA PARA LER UM NUMERO DE 0 A 999 E MOSTRAR NA TELA CADA DIGITO SEPARADO"
   ]
  },
  {
   "cell_type": "code",
   "execution_count": 19,
   "id": "c694603f-45ec-4b01-ad63-2ed3025a3403",
   "metadata": {},
   "outputs": [
    {
     "name": "stdin",
     "output_type": "stream",
     "text": [
      "Informe um número: 12\n"
     ]
    },
    {
     "name": "stdout",
     "output_type": "stream",
     "text": [
      "Analisando o número 12\n",
      "Unidades: 2\n",
      "Dezenas: 1\n",
      "Centenas: 0\n",
      "Milhar: 0\n"
     ]
    }
   ],
   "source": [
    "num = int(input('Informe um número:'))\n",
    "u = num // 1 % 10\n",
    "d = num // 10 % 10\n",
    "c = num // 100 % 10\n",
    "m = num // 1000 % 10\n",
    "\n",
    "\n",
    "print('Analisando o número {}'.format(num))\n",
    "print('Unidades: {}'.format(u))\n",
    "print('Dezenas: {}'.format(d))\n",
    "print('Centenas: {}'.format(c))\n",
    "print('Milhar: {}'.format(m))"
   ]
  },
  {
   "cell_type": "markdown",
   "id": "92b1e6ec-4997-41f9-bcd0-07eb59ab8175",
   "metadata": {},
   "source": [
    "    PROGRAMA PARA LER O NOME DE UMA CIDADE E SE COMECA COM 'SANTO'"
   ]
  },
  {
   "cell_type": "code",
   "execution_count": 22,
   "id": "d8f22950-6f48-4768-9d91-4ced0eea43ea",
   "metadata": {},
   "outputs": [
    {
     "name": "stdin",
     "output_type": "stream",
     "text": [
      "Em que cidade você nasceu? santo amaro\n"
     ]
    },
    {
     "name": "stdout",
     "output_type": "stream",
     "text": [
      "True\n"
     ]
    }
   ],
   "source": [
    "cid = str(input('Em que cidade você nasceu?')).strip()\n",
    "\n",
    "print(cid[:5].upper() == 'SANTO')"
   ]
  },
  {
   "cell_type": "markdown",
   "id": "a7812fc5-a16e-40c3-968b-a8073dddecdd",
   "metadata": {},
   "source": [
    "    PROGRAMA PARA LER O NOME DE UMA PESSOA E DIZER SE TEM 'SILVA'"
   ]
  },
  {
   "cell_type": "code",
   "execution_count": 24,
   "id": "d5c0f3ab-ec6f-4048-b03e-7696872fd644",
   "metadata": {},
   "outputs": [
    {
     "name": "stdin",
     "output_type": "stream",
     "text": [
      "Qual é seu nome completo?  Maria Silva Cardoso\n"
     ]
    },
    {
     "name": "stdout",
     "output_type": "stream",
     "text": [
      "Seu nome tem Silva? True\n"
     ]
    }
   ],
   "source": [
    "name = str(input('Qual é seu nome completo? ')).strip()\n",
    "\n",
    "print('Seu nome tem Silva? {}'.format('silva' in name.lower()))"
   ]
  },
  {
   "cell_type": "markdown",
   "id": "71d234cc-5423-49b2-a69b-80d9badbbd65",
   "metadata": {},
   "source": [
    "    PROGRAMA PARA LER UMA FRASE E MOSTRE QUANTAS VEZES APARECE LETRA 'A', QUAL POSICAO APARECE NA PRIMEIRA E NA ULTIMA VEZ "
   ]
  },
  {
   "cell_type": "code",
   "execution_count": 31,
   "id": "3d5b69b1-2a9a-4940-8260-8334f5e1c1a3",
   "metadata": {},
   "outputs": [
    {
     "name": "stdin",
     "output_type": "stream",
     "text": [
      "Digite uma frase:    Arara azul    \n"
     ]
    },
    {
     "name": "stdout",
     "output_type": "stream",
     "text": [
      "A letra A aparece 4 vezes na frase.\n",
      "A primeira letra A apareceu na posição 1\n",
      "A última letra A apareceu na posição 7\n"
     ]
    }
   ],
   "source": [
    "frase = str(input('Digite uma frase:')).upper().strip()\n",
    "\n",
    "print('A letra A aparece {} vezes na frase.'.format(frase.count('A')))\n",
    "print('A primeira letra A apareceu na posição {}'.format(frase.find('A')+1))\n",
    "print('A última letra A apareceu na posição {}'.format(frase.rfind('A')+1))"
   ]
  },
  {
   "cell_type": "markdown",
   "id": "8102418c-17ec-4463-8c5c-f5951d3639fe",
   "metadata": {},
   "source": [
    "    PROGRAMA PARA LER O NOME COMPLETO DE UMA PESSOA, MOSTRANDO  O PRIMEIRO E O ÚLTIMO NOME SEPARADAMENTE"
   ]
  },
  {
   "cell_type": "code",
   "execution_count": 32,
   "id": "dc7b960e-993c-4971-bafe-754a2b78da89",
   "metadata": {},
   "outputs": [
    {
     "name": "stdin",
     "output_type": "stream",
     "text": [
      "Digite seu nome completo: Maria Catarina de Jesus Silva\n"
     ]
    },
    {
     "name": "stdout",
     "output_type": "stream",
     "text": [
      "Muito prazer em te conhecer!\n",
      "Seu primeiro nome é Maria.\n",
      "Seu último nome é Silva.\n"
     ]
    }
   ],
   "source": [
    "n = str(input('Digite seu nome completo:')).strip()\n",
    "nom = n.split()\n",
    "\n",
    "print('Muito prazer em te conhecer!')\n",
    "print('Seu primeiro nome é {}.'.format(nom[0]))\n",
    "print('Seu último nome é {}.'.format(nom[len(nom)-1]))"
   ]
  },
  {
   "cell_type": "code",
   "execution_count": null,
   "id": "1576e2b6-dfca-42d3-92d5-da503488e5b2",
   "metadata": {},
   "outputs": [],
   "source": []
  }
 ],
 "metadata": {
  "kernelspec": {
   "display_name": "Python 3 (ipykernel)",
   "language": "python",
   "name": "python3"
  },
  "language_info": {
   "codemirror_mode": {
    "name": "ipython",
    "version": 3
   },
   "file_extension": ".py",
   "mimetype": "text/x-python",
   "name": "python",
   "nbconvert_exporter": "python",
   "pygments_lexer": "ipython3",
   "version": "3.10.4"
  }
 },
 "nbformat": 4,
 "nbformat_minor": 5
}

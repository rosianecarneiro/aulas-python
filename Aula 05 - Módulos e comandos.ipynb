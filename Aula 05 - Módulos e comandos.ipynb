{
 "cells": [
  {
   "cell_type": "markdown",
   "id": "48be9264-ba63-4c9d-9032-c9304e829550",
   "metadata": {},
   "source": [
    "    # MÓDULO \n",
    "    -> arquivo com definiçoes e comandos para usar em programas\n",
    "    -> alguns já vem por padrao no python, outros devemos importar \n",
    "\n",
    "    # exemplos: \n",
    "    # math.py: para trabalhar com Matemática\n",
    "    # random.py: módulo para se trabalhar com números aleatórios\n",
    "    # os.py: módulo para se trabalhar com arquivos\n",
    "    # time.py: para trabalhar com tempo (data, dia, ano, etc)"
   ]
  },
  {
   "cell_type": "markdown",
   "id": "c17e8348-ffb3-4ef4-a515-0673f8e0ef30",
   "metadata": {},
   "source": [
    "    # math.py (ceil, floor, trunc, pow, sqrt, factorial)  -> quando importar math vai vir todas essas funções\n",
    "\n",
    "    # from math import sqrt -> se quiser importar uma funcao especifica\n"
   ]
  },
  {
   "cell_type": "markdown",
   "id": "29c34b72-c7d8-447d-ae4c-90ef17646ee1",
   "metadata": {},
   "source": [
    "     https://docs.python.org/3/py-modindex.html -> site com exemplos de todas funcionalidades dos módulos"
   ]
  },
  {
   "cell_type": "code",
   "execution_count": 23,
   "id": "83ecbe6f-578e-4c80-8417-85ed4b808e50",
   "metadata": {},
   "outputs": [
    {
     "name": "stdin",
     "output_type": "stream",
     "text": [
      "Digite um número: 29\n"
     ]
    },
    {
     "name": "stdout",
     "output_type": "stream",
     "text": [
      "A raiz de 29 é igual a 5.385164807134504\n"
     ]
    }
   ],
   "source": [
    "import math # funçoes matematicas\n",
    "\n",
    "num = int(input('Digite um número:'))\n",
    "raiz = math.sqrt(num)\n",
    "\n",
    "print('A raiz de {} é igual a {}'.format(num, raiz))"
   ]
  },
  {
   "cell_type": "code",
   "execution_count": 24,
   "id": "e1172392-94ea-4110-872c-34f1be500d82",
   "metadata": {},
   "outputs": [
    {
     "name": "stdin",
     "output_type": "stream",
     "text": [
      "Digite um número: 29\n"
     ]
    },
    {
     "name": "stdout",
     "output_type": "stream",
     "text": [
      "A raiz de 29 é igual a 6\n"
     ]
    }
   ],
   "source": [
    "# arredondar o valor para cima\n",
    "\n",
    "num = int(input('Digite um número:'))\n",
    "raiz = math.sqrt(num)\n",
    "\n",
    "print('A raiz de {} é igual a {}'.format(num, math.ceil(raiz)))"
   ]
  },
  {
   "cell_type": "code",
   "execution_count": 25,
   "id": "126c0d10-f1d0-43db-8e2c-631dcdf85cce",
   "metadata": {},
   "outputs": [
    {
     "name": "stdin",
     "output_type": "stream",
     "text": [
      "Digite um número: 29\n"
     ]
    },
    {
     "name": "stdout",
     "output_type": "stream",
     "text": [
      "A raiz de 29 é igual a 5\n"
     ]
    }
   ],
   "source": [
    "# arredondar o valor para baixo\n",
    "\n",
    "num = int(input('Digite um número:'))\n",
    "raiz = math.sqrt(num)\n",
    "\n",
    "print('A raiz de {} é igual a {}'.format(num, math.floor(raiz)))"
   ]
  },
  {
   "cell_type": "code",
   "execution_count": 26,
   "id": "8ff83bc8-e019-4402-908b-866ea291518d",
   "metadata": {},
   "outputs": [
    {
     "name": "stdout",
     "output_type": "stream",
     "text": [
      "5\n"
     ]
    }
   ],
   "source": [
    "import random # gera numeros pseudoaleatorios\n",
    "\n",
    "num = random.randint(1, 10)\n",
    "\n",
    "print(num)"
   ]
  },
  {
   "cell_type": "code",
   "execution_count": null,
   "id": "b47ee647-a546-4264-a517-718f7185cd44",
   "metadata": {},
   "outputs": [],
   "source": []
  }
 ],
 "metadata": {
  "kernelspec": {
   "display_name": "Python 3 (ipykernel)",
   "language": "python",
   "name": "python3"
  },
  "language_info": {
   "codemirror_mode": {
    "name": "ipython",
    "version": 3
   },
   "file_extension": ".py",
   "mimetype": "text/x-python",
   "name": "python",
   "nbconvert_exporter": "python",
   "pygments_lexer": "ipython3",
   "version": "3.10.4"
  }
 },
 "nbformat": 4,
 "nbformat_minor": 5
}

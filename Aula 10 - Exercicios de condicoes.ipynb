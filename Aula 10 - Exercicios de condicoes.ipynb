{
 "cells": [
  {
   "cell_type": "markdown",
   "id": "e56069ae-4bc5-48f8-964d-4b4a837edbd0",
   "metadata": {},
   "source": [
    "    # Programa para adivinhar um numero entre 0 e 5, deve escrever na tela se o usuario ganhou ou perdeu"
   ]
  },
  {
   "cell_type": "code",
   "execution_count": 15,
   "id": "8c7fa500-9df0-49c8-b41c-0e42b4d1d58c",
   "metadata": {},
   "outputs": [
    {
     "name": "stdout",
     "output_type": "stream",
     "text": [
      "-=--=--=--=--=--=--=--=--=--=--=--=--=--=--=--=--=--=--=--=-\n",
      "Vou pensar em um número entre 0 e 5. Tente adivinhar...\n",
      "-=--=--=--=--=--=--=--=--=--=--=--=--=--=--=--=--=--=--=--=-\n"
     ]
    },
    {
     "name": "stdin",
     "output_type": "stream",
     "text": [
      "Em que número eu pensei? 1\n"
     ]
    },
    {
     "name": "stdout",
     "output_type": "stream",
     "text": [
      "Ganhei! Eu pensei no número 0 e não no 1!\n"
     ]
    }
   ],
   "source": [
    "from random import randint\n",
    "\n",
    "computador = randint(0,5) # faz o compoutador randomizar um numero\n",
    "\n",
    "print('-=-' * 20)\n",
    "\n",
    "print('Vou pensar em um número entre 0 e 5. Tente adivinhar...')\n",
    "\n",
    "print('-=-' * 20)\n",
    "\n",
    "jogador = int(input('Em que número eu pensei?')) # jogador tenta adivinhar\n",
    "\n",
    "if jogador == computador:\n",
    "\n",
    "    print('Parabéns! Você conseguiu me vencer!')\n",
    "\n",
    "else:\n",
    "    \n",
    "    print('Ganhei! Eu pensei no número {} e não no {}!'.format(computador, jogador))\n"
   ]
  },
  {
   "cell_type": "markdown",
   "id": "b23699f9-74e0-4978-a86c-0df643649374",
   "metadata": {},
   "source": [
    "    # Programa que lê a velocidade de um carro, se ultrapassar 80km/h aparece mensagem dizendo que foi multado. A multa é 7,00 pra cada km acima do limite"
   ]
  },
  {
   "cell_type": "code",
   "execution_count": 16,
   "id": "99ab4ccb-150e-4ba9-8659-4681b2eb2941",
   "metadata": {},
   "outputs": [
    {
     "name": "stdin",
     "output_type": "stream",
     "text": [
      "Qual é a velocidade atual do carro? 88\n"
     ]
    },
    {
     "name": "stdout",
     "output_type": "stream",
     "text": [
      "MULTADO! Você excedeu o limite permitido que é de 80Km/h\n",
      "Você deve pagar uma multa de R$56.00!\n",
      "Tenha um bom dia! Dirija com segurança!\n"
     ]
    }
   ],
   "source": [
    "v = float(input('Qual é a velocidade atual do carro?'))\n",
    "\n",
    "if v > 80:\n",
    "\n",
    "    print('MULTADO! Você excedeu o limite permitido que é de 80Km/h')\n",
    "    \n",
    "    multa = (v - 80) * 7\n",
    "    \n",
    "    print('Você deve pagar uma multa de R${:.2f}!'.format(multa))\n",
    "    \n",
    "print('Tenha um bom dia! Dirija com segurança!')"
   ]
  },
  {
   "cell_type": "markdown",
   "id": "731544e8-3e3b-4b90-b988-c67a99ade036",
   "metadata": {},
   "source": [
    "    # Programa que lê um numero inteiro e mostra se é PAR ou IMPAR"
   ]
  },
  {
   "cell_type": "code",
   "execution_count": 22,
   "id": "f3a1a036-44e1-423d-8368-35b05d823e4b",
   "metadata": {},
   "outputs": [
    {
     "name": "stdin",
     "output_type": "stream",
     "text": [
      "Me diga um número qualquer: 776\n"
     ]
    },
    {
     "name": "stdout",
     "output_type": "stream",
     "text": [
      "O número 776 é PAR\n"
     ]
    }
   ],
   "source": [
    "numero = int(input('Me diga um número qualquer:'))\n",
    "\n",
    "resultado = numero % 2 # o resto da divisao de qualquer numero par por 2 é 0\n",
    "                       # o resto da divisao de qualquer numero impar por 2 é 1\n",
    "\n",
    "if resultado == 0:\n",
    "    \n",
    "    print('O número {} é PAR'.format(numero))\n",
    "\n",
    "else:\n",
    "    \n",
    "    print('O número {} é ÍMPAR'.format(numero))"
   ]
  },
  {
   "cell_type": "markdown",
   "id": "ad3277c9-0d59-4b65-b198-c759175105fc",
   "metadata": {},
   "source": [
    "    # Programa para calcular preco de passagens: \n",
    "\n",
    "    R$ 0,50/Km ate 200 Km\n",
    "\n",
    "    R$ 0,45 para mais longas"
   ]
  },
  {
   "cell_type": "code",
   "execution_count": 31,
   "id": "ba0a55f9-ab0d-4d15-85d5-d8e85ee75b37",
   "metadata": {},
   "outputs": [
    {
     "name": "stdin",
     "output_type": "stream",
     "text": [
      "Qual é a distância da sua viagem? 1000\n"
     ]
    },
    {
     "name": "stdout",
     "output_type": "stream",
     "text": [
      "Você está prestes a começar uma viagem de 1000.0Km\n",
      "O preço da sua passagem será de R$450.00\n"
     ]
    }
   ],
   "source": [
    "viagem = float(input('Qual é a distância da sua viagem?'))\n",
    "\n",
    "print('Você está prestes a começar uma viagem de {:.1f}Km'.format(viagem))\n",
    "\n",
    "if viagem <= 200:\n",
    "    \n",
    "    passagem = viagem * 0.50\n",
    "    \n",
    "else:\n",
    "    passagem = viagem * 0.45\n",
    "    \n",
    "print('O preço da sua passagem será de R${:.2f}'.format(passagem))\n"
   ]
  },
  {
   "cell_type": "markdown",
   "id": "fed8e23b-e8ed-4f98-9055-d4ff73f9423f",
   "metadata": {},
   "source": [
    "    # Programa que para ler um ano e mostrar se ele é bissexto"
   ]
  },
  {
   "cell_type": "code",
   "execution_count": 47,
   "id": "c45793c6-ba8e-4e47-8bd9-0cd39c624d3f",
   "metadata": {},
   "outputs": [
    {
     "name": "stdin",
     "output_type": "stream",
     "text": [
      "Que ano quer analisar? 0\n"
     ]
    },
    {
     "name": "stdout",
     "output_type": "stream",
     "text": [
      "O ano 2022 NÃO é BISSEXTO\n"
     ]
    }
   ],
   "source": [
    "from datetime import date\n",
    "\n",
    "ano = int(input('Que ano quer analisar?'))\n",
    "\n",
    "if ano == 0:\n",
    "    \n",
    "    ano = date.today().year\n",
    "    \n",
    "\n",
    "if ano % 4 == 0 and ano % 100 != 0 or ano % 400 == 0:\n",
    "    \n",
    "    print('O ano {} é BISSEXTO'.format(ano))\n",
    "    \n",
    "else:\n",
    "    \n",
    "    print('O ano {} NÃO é BISSEXTO'.format(ano))\n"
   ]
  },
  {
   "cell_type": "markdown",
   "id": "0cc1f4ff-6fb4-41ef-b2fc-a151bbf903b7",
   "metadata": {},
   "source": [
    "    # Programa para ler 3 numeros e mostrar qual menor e maior"
   ]
  },
  {
   "cell_type": "code",
   "execution_count": 49,
   "id": "0e33f479-04c1-41ca-8c3f-4faa45b26bb8",
   "metadata": {},
   "outputs": [
    {
     "name": "stdin",
     "output_type": "stream",
     "text": [
      "Primeiro valor: 51\n",
      "Segundo valor: 7\n",
      "Terceiro valor: 6\n"
     ]
    },
    {
     "name": "stdout",
     "output_type": "stream",
     "text": [
      "O menor valor digitado foi 6\n",
      "O maior valor digitado foi 51\n"
     ]
    }
   ],
   "source": [
    "a = int(input('Primeiro valor:'))\n",
    "b = int(input('Segundo valor:'))\n",
    "c = int(input('Terceiro valor:'))\n",
    "\n",
    "# Verificando o menor:\n",
    "menor = a\n",
    "\n",
    "if b < a and b < c:\n",
    "    menor = b\n",
    "\n",
    "if c < a and c < b:\n",
    "    menor = c\n",
    "\n",
    "# Verificando o maior:\n",
    "maior = a\n",
    "\n",
    "if b > a and b > c:\n",
    "    maior = b\n",
    "    \n",
    "if c > a and c > b:\n",
    "    maior = c\n",
    "    \n",
    "print('O menor valor digitado foi {}'.format(menor))\n",
    "print('O maior valor digitado foi {}'.format(maior))\n"
   ]
  },
  {
   "cell_type": "markdown",
   "id": "020463dd-deab-463d-a45d-1e9105f35dc7",
   "metadata": {},
   "source": [
    "    # Programa para perguntar salario e calcular aumento:\n",
    "\n",
    "    10 % -> maiores que R$1250\n",
    "\n",
    "    15% -> menores ou iguais que R$1250"
   ]
  },
  {
   "cell_type": "code",
   "execution_count": 51,
   "id": "3b5a35cf-d619-42b6-addd-fd2297d92781",
   "metadata": {},
   "outputs": [
    {
     "name": "stdin",
     "output_type": "stream",
     "text": [
      "Qual é o salário do funcionário? R$ 5000\n"
     ]
    },
    {
     "name": "stdout",
     "output_type": "stream",
     "text": [
      "Quem ganhava R$5000.00, passa a ganhar R$5500.00\n"
     ]
    }
   ],
   "source": [
    "s = float(input('Qual é o salário do funcionário? R$'))\n",
    "\n",
    "if s <= 1250:\n",
    "    \n",
    "    aumento = s + (s * 15 / 100)\n",
    "    \n",
    "else:\n",
    "    aumento = s + (s * 10 / 100)\n",
    "    \n",
    "print('Quem ganhava R${:.2f}, passa a ganhar R${:.2f}'.format(s, aumento))\n"
   ]
  },
  {
   "cell_type": "markdown",
   "id": "4c2345a3-8471-4877-9034-3ef8abecf89f",
   "metadata": {},
   "source": [
    "    # Programa pra ler o comprimento de 3 retas e ver se pode formar triangulo"
   ]
  },
  {
   "cell_type": "code",
   "execution_count": 66,
   "id": "e2ab4c6c-77b3-44a8-b936-d59035a0dbb7",
   "metadata": {},
   "outputs": [
    {
     "name": "stdout",
     "output_type": "stream",
     "text": [
      "-=--=--=--=--=--=--=--=--=--=--=--=--=--=--=--=--=--=--=--=-\n",
      "Analisador de Triângulos\n",
      "-=--=--=--=--=--=--=--=--=--=--=--=--=--=--=--=--=--=--=--=-\n"
     ]
    },
    {
     "name": "stdin",
     "output_type": "stream",
     "text": [
      "Primeiro segmento: 3\n",
      "Segundo segmento: 4\n",
      "Terceiro segmento: 5\n"
     ]
    },
    {
     "name": "stdout",
     "output_type": "stream",
     "text": [
      "Os segmentos acima PODEM FORMAR um triângulo\n"
     ]
    }
   ],
   "source": [
    "print('-=-' * 20)\n",
    "print('Analisador de Triângulos')\n",
    "print('-=-' * 20)\n",
    "\n",
    "r1 = float(input('Primeiro segmento:'))\n",
    "r2 = float(input('Segundo segmento:'))\n",
    "r3 = float(input('Terceiro segmento:'))\n",
    "\n",
    "if r1 < (r2 + r3) and r2 < (r1 + r3) and r3 < (r1 + r2):\n",
    "    \n",
    "    print('Os segmentos acima PODEM FORMAR um triângulo'.format())\n",
    "\n",
    "else:\n",
    "    \n",
    "    print('Os segmentos acima NÃO PODEM FORMAR um triângulo'.format())    \n"
   ]
  },
  {
   "cell_type": "code",
   "execution_count": null,
   "id": "d7b53fae-ca8d-44e0-a01c-bdc7fc4982da",
   "metadata": {},
   "outputs": [],
   "source": []
  }
 ],
 "metadata": {
  "kernelspec": {
   "display_name": "Python 3 (ipykernel)",
   "language": "python",
   "name": "python3"
  },
  "language_info": {
   "codemirror_mode": {
    "name": "ipython",
    "version": 3
   },
   "file_extension": ".py",
   "mimetype": "text/x-python",
   "name": "python",
   "nbconvert_exporter": "python",
   "pygments_lexer": "ipython3",
   "version": "3.10.4"
  }
 },
 "nbformat": 4,
 "nbformat_minor": 5
}

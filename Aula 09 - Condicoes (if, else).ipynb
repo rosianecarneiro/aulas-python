{
 "cells": [
  {
   "cell_type": "markdown",
   "id": "08e828cc-43fe-402c-814e-ed3360b9454c",
   "metadata": {},
   "source": [
    "**Condições em Python (if, else)**"
   ]
  },
  {
   "cell_type": "markdown",
   "id": "cf6c7c0c-c0b7-4dea-9ae4-e6db5fb5bbf4",
   "metadata": {},
   "source": [
    "    Estruturas condicionais simples e compostas\n",
    "\n",
    "    se carro.esquerda() \n",
    "        bloco_V_  -> se o carro for pra esquerda faz bloco verdadeiro  \n",
    "    senao\n",
    "     bloco_F_  -> se o carro for pra esquerda faz bloco falso\n",
    "     \n",
    "\n",
    "\n",
    "    Condicao -> somente um é utilizado\n",
    "\n",
    "    if carro.esquerdo():\n",
    "    bloco True\n",
    "    \n",
    "    else:\n",
    "    bloco False"
   ]
  },
  {
   "cell_type": "code",
   "execution_count": 7,
   "id": "a8a2aeab-007d-4f09-93a6-04af371bbe95",
   "metadata": {},
   "outputs": [
    {
     "name": "stdin",
     "output_type": "stream",
     "text": [
      "Quantos anos tem seu carro? 5\n"
     ]
    },
    {
     "name": "stdout",
     "output_type": "stream",
     "text": [
      "Carro Velho\n",
      "--FIM--\n"
     ]
    }
   ],
   "source": [
    "#Exemplo com condicao composta\n",
    "\n",
    "tempo = int(input('Quantos anos tem seu carro?'))\n",
    "\n",
    "if tempo <=3:\n",
    "    print('Carro Novo')    \n",
    "else:\n",
    "    print('Carro Velho')\n",
    "    \n",
    "print('--FIM--')"
   ]
  },
  {
   "cell_type": "code",
   "execution_count": 6,
   "id": "dcffcd7f-273d-4fb6-8161-7f5711c74b7f",
   "metadata": {},
   "outputs": [
    {
     "name": "stdin",
     "output_type": "stream",
     "text": [
      "Quantos anos tem seu carro? 7\n"
     ]
    },
    {
     "name": "stdout",
     "output_type": "stream",
     "text": [
      "Carro Velho\n",
      "--FIM--\n"
     ]
    }
   ],
   "source": [
    "#Exemplo com condicao simplificada\n",
    "\n",
    "tempo = int(input('Quantos anos tem seu carro?'))\n",
    "\n",
    "print('Carro Novo' if tempo <=3 else 'Carro Velho')\n",
    "\n",
    "print('--FIM--')"
   ]
  },
  {
   "cell_type": "markdown",
   "id": "f5c4fe32-196e-4e77-9332-c7d0e0d5ba69",
   "metadata": {},
   "source": [
    "    # EXEMPLOS"
   ]
  },
  {
   "cell_type": "code",
   "execution_count": 4,
   "id": "7a332552-cc03-47f5-a877-6f9f364b2637",
   "metadata": {},
   "outputs": [
    {
     "name": "stdin",
     "output_type": "stream",
     "text": [
      "Qual é seu nome? Maria\n"
     ]
    },
    {
     "name": "stdout",
     "output_type": "stream",
     "text": [
      "Que nome lindo você tem!\n",
      "Bom dia, Maria!\n"
     ]
    }
   ],
   "source": [
    "nome = str(input('Qual é seu nome?'))\n",
    "\n",
    "if nome == 'Maria':\n",
    "    print('Que nome lindo você tem!')\n",
    "\n",
    "print('Bom dia, {}!'.format(nome))"
   ]
  },
  {
   "cell_type": "code",
   "execution_count": 9,
   "id": "8c7fa500-9df0-49c8-b41c-0e42b4d1d58c",
   "metadata": {},
   "outputs": [
    {
     "name": "stdin",
     "output_type": "stream",
     "text": [
      "Digite a primeira nota: 4\n",
      "Digite a segunda nota: 3\n"
     ]
    },
    {
     "name": "stdout",
     "output_type": "stream",
     "text": [
      "A sua média foi 3.5\n",
      "Sua média foi ruim. Estude mais!\n"
     ]
    }
   ],
   "source": [
    "n1 = float(input('Digite a primeira nota:'))\n",
    "n2 = float(input('Digite a segunda nota:'))\n",
    "m = (n1 + n2) / 2\n",
    "\n",
    "print('A sua média foi {:.1f}'.format(m))\n",
    "\n",
    "if m >= 6.0:\n",
    "    print('Sua média foi boa. Parabéns!')\n",
    "    \n",
    "else:\n",
    "    print('Sua média foi ruim. Estude mais!')"
   ]
  },
  {
   "cell_type": "code",
   "execution_count": 11,
   "id": "efe2b17f-7e36-458b-9ede-f8023e0da65b",
   "metadata": {},
   "outputs": [
    {
     "name": "stdin",
     "output_type": "stream",
     "text": [
      "Digite a primeira nota: 9\n",
      "Digite a segunda nota: 8\n"
     ]
    },
    {
     "name": "stdout",
     "output_type": "stream",
     "text": [
      "A sua média foi 8.5\n",
      "Parabéns!\n"
     ]
    }
   ],
   "source": [
    "N1 = float(input('Digite a primeira nota:'))\n",
    "N2 = float(input('Digite a segunda nota:'))\n",
    "M = (N1 + N2) / 2\n",
    "\n",
    "print('A sua média foi {:.1f}'.format(M))\n",
    "\n",
    "print('Parabéns!' if M >= 6.0 else 'Estude mais!')"
   ]
  },
  {
   "cell_type": "code",
   "execution_count": null,
   "id": "ec16b145-0178-4d6d-8bb5-714246bf92f9",
   "metadata": {},
   "outputs": [],
   "source": []
  }
 ],
 "metadata": {
  "kernelspec": {
   "display_name": "Python 3 (ipykernel)",
   "language": "python",
   "name": "python3"
  },
  "language_info": {
   "codemirror_mode": {
    "name": "ipython",
    "version": 3
   },
   "file_extension": ".py",
   "mimetype": "text/x-python",
   "name": "python",
   "nbconvert_exporter": "python",
   "pygments_lexer": "ipython3",
   "version": "3.10.4"
  }
 },
 "nbformat": 4,
 "nbformat_minor": 5
}

{
 "cells": [
  {
   "cell_type": "markdown",
   "id": "679f7e93-7acb-42f3-b94f-d9cf72269ace",
   "metadata": {},
   "source": [
    "**Tipos Primitivos e Saídas de Dados**"
   ]
  },
  {
   "cell_type": "markdown",
   "id": "4307939a-4b16-4171-84c9-c173b720d412",
   "metadata": {},
   "source": [
    "    TIPO = forma simples de classificar informaçoes\n",
    "\n",
    "    4 tipos principais no python: \n",
    "\n",
    "    ->  int (nros inteiros: 7, -4, 0, 9875) \n",
    "    ->  float (nros de pontos flutuantes: 4.5, 0.075, -15.223, 7.0)\n",
    "    ->  bool (logicos: True, False)\n",
    "    ->  str (caracteres: 'olá', '7.5', '')"
   ]
  },
  {
   "cell_type": "code",
   "execution_count": 1,
   "id": "9336d65d-d131-48f6-b394-e899dbf09eec",
   "metadata": {},
   "outputs": [
    {
     "name": "stdin",
     "output_type": "stream",
     "text": [
      "Digite um valor: 1\n"
     ]
    },
    {
     "name": "stdout",
     "output_type": "stream",
     "text": [
      "<class 'str'>\n"
     ]
    }
   ],
   "source": [
    "n1 = input('Digite um valor:')\n",
    "\n",
    "print(type(n1))"
   ]
  },
  {
   "cell_type": "code",
   "execution_count": 3,
   "id": "f6341f3f-3ffc-485e-a388-43202fc2c1f8",
   "metadata": {},
   "outputs": [
    {
     "name": "stdin",
     "output_type": "stream",
     "text": [
      "Digite um valor: 5\n"
     ]
    },
    {
     "name": "stdout",
     "output_type": "stream",
     "text": [
      "<class 'int'>\n"
     ]
    }
   ],
   "source": [
    "n1 = int(input('Digite um valor:'))\n",
    "\n",
    "print(type(n1))"
   ]
  },
  {
   "cell_type": "markdown",
   "id": "2e9fafef-4dd8-4a93-9be3-85a6637d888b",
   "metadata": {},
   "source": [
    "juntar strings ->  concatenar\n",
    "\n",
    "{} = mascara\n",
    "\n",
    "[] = coleções -> lista, tupla e dicionarios"
   ]
  },
  {
   "cell_type": "code",
   "execution_count": 2,
   "id": "2600f48c-67c1-4147-a613-41e21a2da76f",
   "metadata": {},
   "outputs": [
    {
     "name": "stdin",
     "output_type": "stream",
     "text": [
      "Digite algo: 5\n"
     ]
    }
   ],
   "source": [
    "n = input('Digite algo:')\n",
    "\n",
    "\n",
    "#clicar TAB para opçoes de funcoes\n",
    "#print(n.is)"
   ]
  },
  {
   "cell_type": "code",
   "execution_count": 3,
   "id": "c7cc300e-3a96-4132-a996-7165a299b0ba",
   "metadata": {},
   "outputs": [
    {
     "name": "stdin",
     "output_type": "stream",
     "text": [
      "Digite um valor: 5\n",
      "Digite um valor: 3\n"
     ]
    },
    {
     "name": "stdout",
     "output_type": "stream",
     "text": [
      "A soma entre 5 e 3 é igual a 53\n"
     ]
    }
   ],
   "source": [
    "n1 = input('Digite um valor:')\n",
    "n2 = input('Digite um valor:')\n",
    "s = n1 + n2\n",
    "\n",
    "print('A soma entre {} e {} é igual a {}'.format(n1, n2, s))"
   ]
  },
  {
   "cell_type": "code",
   "execution_count": 4,
   "id": "9ed8cff2-305e-4486-b28d-26a1226088b9",
   "metadata": {},
   "outputs": [
    {
     "name": "stdin",
     "output_type": "stream",
     "text": [
      "Digite um valor: 5\n",
      "Digite um valor: 3\n"
     ]
    },
    {
     "name": "stdout",
     "output_type": "stream",
     "text": [
      "A soma entre 5 e 3 é igual a 8\n"
     ]
    }
   ],
   "source": [
    "n1 = int(input('Digite um valor:'))\n",
    "n2 = int(input('Digite um valor:'))\n",
    "s = n1 + n2\n",
    "\n",
    "print('A soma entre {} e {} é igual a {}'.format(n1, n2, s))"
   ]
  },
  {
   "cell_type": "code",
   "execution_count": 22,
   "id": "ad84da7a-3376-4072-a3ab-e9b90e96c205",
   "metadata": {},
   "outputs": [
    {
     "name": "stdin",
     "output_type": "stream",
     "text": [
      "Digite algo: Flor12\n"
     ]
    },
    {
     "name": "stdout",
     "output_type": "stream",
     "text": [
      "O tipo primitivo desse valor é <class 'str'>\n",
      "Só tem espaços? False\n",
      "É um numero? False\n",
      "É alfabético? False\n",
      "É alfanumérico? True\n",
      "Está em maiúsculas? False\n",
      "Está em minúsculas? False\n",
      "Está capitalizada? True\n"
     ]
    }
   ],
   "source": [
    "#ENTENDENDO VARIAVEIS\n",
    "\n",
    "#a = objeto -> todo objeto tem caracteristicas e realiza funcionalidades  \n",
    "#caracteristicas = atributos\n",
    "#funcionalidades = métodos\n",
    "\n",
    "a = input('Digite algo:') #funcao input retorna sempre uma string\n",
    "\n",
    "#trabalhando métodos, todo objeto string tem os métodos abaixo\n",
    "print('O tipo primitivo desse valor é', type(a))\n",
    "print('Só tem espaços?', a.isspace())\n",
    "print('É um numero?', a.isnumeric())\n",
    "print('É alfabético?', a.isalpha())\n",
    "print('É alfanumérico?', a.isalnum())\n",
    "print('Está em maiúsculas?', a.isupper())\n",
    "print('Está em minúsculas?', a.islower())\n",
    "print('Está capitalizada?', a.istitle())"
   ]
  },
  {
   "cell_type": "code",
   "execution_count": 27,
   "id": "4befe2aa-1ff3-44b2-9b8c-0c05c02d4bba",
   "metadata": {},
   "outputs": [
    {
     "data": {
      "text/plain": [
       "True"
      ]
     },
     "execution_count": 27,
     "metadata": {},
     "output_type": "execute_result"
    }
   ],
   "source": [
    "#OPERADORES ARITMÉTICOS: sao binarios pq precisam de dois operandos\n",
    "# dois sinais == pra testar se algo é igual a outra\n",
    "\n",
    "# + adicao\n",
    "5 + 2 == 7\n",
    "\n",
    "# - subtracao\n",
    "5 - 2 == 3\n",
    "\n",
    "# * multiplicacao\n",
    "5 * 2 == 10\n",
    "\n",
    "# / divisao\n",
    "5 / 2 == 2.5\n",
    "\n",
    "# ** potencia\n",
    "5 ** 2 == 25\n",
    "\n",
    "# // divisao inteira (dividir sem usar virgula)\n",
    "5 // 2 == 2\n",
    "\n",
    "# % resto da divisao (valor inteiro que sobrou na divisao\n",
    "5 % 2 == 1\n"
   ]
  },
  {
   "cell_type": "markdown",
   "id": "2a334758-7b24-4f17-9b59-2ca49d819539",
   "metadata": {},
   "source": [
    "ORDEM DE PRECEDENCIA PARA OPERADORES\n",
    "\n",
    "    ->  ()\n",
    "    ->  **\n",
    "    ->   * / // %\n",
    "    ->   + - "
   ]
  },
  {
   "cell_type": "code",
   "execution_count": 3,
   "id": "474cf5d3-70fb-46cc-9a9e-59a75f1e28cd",
   "metadata": {},
   "outputs": [
    {
     "data": {
      "text/plain": [
       "11"
      ]
     },
     "execution_count": 3,
     "metadata": {},
     "output_type": "execute_result"
    }
   ],
   "source": [
    "#EXERCICIOS\n",
    "5 + 3 * 2\n"
   ]
  },
  {
   "cell_type": "code",
   "execution_count": 4,
   "id": "ddf4ca3e-ce01-4211-99a7-5f23afc4f8f7",
   "metadata": {},
   "outputs": [
    {
     "data": {
      "text/plain": [
       "25"
      ]
     },
     "execution_count": 4,
     "metadata": {},
     "output_type": "execute_result"
    }
   ],
   "source": [
    "5 ** 2\n"
   ]
  },
  {
   "cell_type": "code",
   "execution_count": 5,
   "id": "6f6a1f03-5722-4511-8a6f-b733105385a2",
   "metadata": {},
   "outputs": [
    {
     "data": {
      "text/plain": [
       "9"
      ]
     },
     "execution_count": 5,
     "metadata": {},
     "output_type": "execute_result"
    }
   ],
   "source": [
    "19 // 2\n"
   ]
  },
  {
   "cell_type": "code",
   "execution_count": 6,
   "id": "889c6920-9855-4e7f-8bb7-d5d51c1bed14",
   "metadata": {},
   "outputs": [
    {
     "data": {
      "text/plain": [
       "9.5"
      ]
     },
     "execution_count": 6,
     "metadata": {},
     "output_type": "execute_result"
    }
   ],
   "source": [
    "19 / 2\n"
   ]
  },
  {
   "cell_type": "code",
   "execution_count": 7,
   "id": "3b97029f-81fc-43aa-87ad-6ffa35c3b4ad",
   "metadata": {},
   "outputs": [
    {
     "data": {
      "text/plain": [
       "328757179819813422897342196080764612107983831743389023624405255670690832060848221824306724753890685373501884093100548274222202663446608298512276776135446705469491814539803873642610394430773633554403355416974854007035755228889612424513374927559842603441418654104461280145637681789303089629527662565782973169473632613892227202558852797417890403781298627935060943131553207847071012503628934101032568553492005722471235231175395508478579666737993774691221615401882520433870241816456538902550621493799034888700490988180773993600803740261912173392899204969073991772519053632900131878746604281127190866631915762608689816806771836872415722791565149632176594565096318733265520269878534562068905210887036910677779213731152584356530644171389622698260088337435627254504382786190234343066196447449762641236425340982756792144082378252527121431558389772373943718349561294131169636736255312634653334887203122825969534260679785514411488205619827582773094708191924556184435978863549262949792896533760832798285965554733612854129717778632012055700151978056791790524010052527327495001179716488946524725767902738384512922791579787066666412111532082155241351220020125791273120398070293320004319283837665370506925822282513313193463726035323295851514647384470993862048857953573304447474731813602449983852690376567914012245243127186000720030278898775577545166015625"
      ]
     },
     "execution_count": 7,
     "metadata": {},
     "output_type": "execute_result"
    }
   ],
   "source": [
    "365 ** 522\n"
   ]
  },
  {
   "cell_type": "code",
   "execution_count": 11,
   "id": "0d2e41c8-c8c3-49ef-9f53-2b7656caaa1d",
   "metadata": {},
   "outputs": [
    {
     "data": {
      "text/plain": [
       "0"
      ]
     },
     "execution_count": 11,
     "metadata": {},
     "output_type": "execute_result"
    }
   ],
   "source": [
    "18 % 2\n"
   ]
  },
  {
   "cell_type": "code",
   "execution_count": 15,
   "id": "9b7035a5-ae37-41d5-b409-d387b0269673",
   "metadata": {},
   "outputs": [
    {
     "data": {
      "text/plain": [
       "2"
      ]
     },
     "execution_count": 15,
     "metadata": {},
     "output_type": "execute_result"
    }
   ],
   "source": [
    "122 % 3"
   ]
  },
  {
   "cell_type": "code",
   "execution_count": 16,
   "id": "46e6417f-3b38-4828-918a-87f0b41d351c",
   "metadata": {},
   "outputs": [
    {
     "data": {
      "text/plain": [
       "64"
      ]
     },
     "execution_count": 16,
     "metadata": {},
     "output_type": "execute_result"
    }
   ],
   "source": [
    "4 ** 3"
   ]
  },
  {
   "cell_type": "code",
   "execution_count": 19,
   "id": "b5d1929c-5eaf-4548-b206-eb4d3a91d668",
   "metadata": {},
   "outputs": [
    {
     "data": {
      "text/plain": [
       "64"
      ]
     },
     "execution_count": 19,
     "metadata": {},
     "output_type": "execute_result"
    }
   ],
   "source": [
    "pow(4,3)\n"
   ]
  },
  {
   "cell_type": "code",
   "execution_count": 20,
   "id": "491f3b77-858e-4cd8-838e-0741919818af",
   "metadata": {},
   "outputs": [
    {
     "data": {
      "text/plain": [
       "9.0"
      ]
     },
     "execution_count": 20,
     "metadata": {},
     "output_type": "execute_result"
    }
   ],
   "source": [
    "81 ** (1/2)\n"
   ]
  },
  {
   "cell_type": "code",
   "execution_count": 21,
   "id": "d40b416a-5075-4fe8-a9e9-00f54512a93f",
   "metadata": {},
   "outputs": [
    {
     "data": {
      "text/plain": [
       "5.0"
      ]
     },
     "execution_count": 21,
     "metadata": {},
     "output_type": "execute_result"
    }
   ],
   "source": [
    "25 ** (1/2)\n"
   ]
  },
  {
   "cell_type": "code",
   "execution_count": 23,
   "id": "aece48a5-28a1-4a4c-91cd-d06e8dd8c9d9",
   "metadata": {},
   "outputs": [
    {
     "data": {
      "text/plain": [
       "5.026525695313479"
      ]
     },
     "execution_count": 23,
     "metadata": {},
     "output_type": "execute_result"
    }
   ],
   "source": [
    "127 ** (1/3) \n"
   ]
  },
  {
   "cell_type": "code",
   "execution_count": 25,
   "id": "b0a53f99-cf6e-44c3-8c32-12a77175f0db",
   "metadata": {
    "collapsed": true,
    "jupyter": {
     "outputs_hidden": true,
     "source_hidden": true
    },
    "tags": []
   },
   "outputs": [
    {
     "data": {
      "text/plain": [
       "'OiOlá'"
      ]
     },
     "execution_count": 25,
     "metadata": {},
     "output_type": "execute_result"
    }
   ],
   "source": [
    "'Oi' + 'Olá'\n"
   ]
  },
  {
   "cell_type": "code",
   "execution_count": 26,
   "id": "41af4d98-7fee-46c8-ad14-8c490c04536e",
   "metadata": {},
   "outputs": [
    {
     "data": {
      "text/plain": [
       "'OiOiOiOiOi'"
      ]
     },
     "execution_count": 26,
     "metadata": {},
     "output_type": "execute_result"
    }
   ],
   "source": [
    "'Oi' * 5\n"
   ]
  },
  {
   "cell_type": "code",
   "execution_count": 29,
   "id": "9b4a9445-12b3-4016-b0e1-67e1f6bebab1",
   "metadata": {},
   "outputs": [
    {
     "data": {
      "text/plain": [
       "'===================='"
      ]
     },
     "execution_count": 29,
     "metadata": {},
     "output_type": "execute_result"
    }
   ],
   "source": [
    "'=' * 20\n"
   ]
  },
  {
   "cell_type": "code",
   "execution_count": 30,
   "id": "5abbc90b-98fa-4bf4-b2e6-eefb0d68f178",
   "metadata": {},
   "outputs": [
    {
     "name": "stdin",
     "output_type": "stream",
     "text": [
      "Digite um número:  8\n"
     ]
    },
    {
     "name": "stdout",
     "output_type": "stream",
     "text": [
      "Analisando o  valor 8, seu antecessor é 7 e o sucesasor é 9\n"
     ]
    }
   ],
   "source": [
    "#Ler número inteiro e mostrar sucesso e antecessor\n",
    "\n",
    "n = int(input('Digite um número: '))\n",
    "\n",
    "\n",
    "print('Analisando o  valor {}, seu antecessor é {} e o sucessor é {}'.format(n, (n - 1), (n + 1)))\n"
   ]
  }
 ],
 "metadata": {
  "kernelspec": {
   "display_name": "Python 3 (ipykernel)",
   "language": "python",
   "name": "python3"
  },
  "language_info": {
   "codemirror_mode": {
    "name": "ipython",
    "version": 3
   },
   "file_extension": ".py",
   "mimetype": "text/x-python",
   "name": "python",
   "nbconvert_exporter": "python",
   "pygments_lexer": "ipython3",
   "version": "3.10.4"
  }
 },
 "nbformat": 4,
 "nbformat_minor": 5
}

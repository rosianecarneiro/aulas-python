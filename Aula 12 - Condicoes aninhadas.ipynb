{
 "cells": [
  {
   "cell_type": "raw",
   "id": "d94cf581-b19d-483c-b27f-a17d2c2a6cd6",
   "metadata": {},
   "source": [
    "    Condicionais aninhadas -> (estruturas condicionais dentro de estruturas condicionais)\n",
    "    \n",
    "    if -> pode ser usado sem 'else'\n",
    "    elif -> pode ser usado várias vezes dentro de 'if'\n",
    "    else -> só pode usar 1 vez"
   ]
  },
  {
   "cell_type": "markdown",
   "id": "e569ba38-6788-4f86-81a3-786f3cff3fca",
   "metadata": {},
   "source": [
    "    ###############################################################       \n",
    "    carro.siga()\n",
    "\n",
    "    se carro.esquerda()\n",
    "\n",
    "    carro.siga()\n",
    "    carro.direita()\n",
    "    carro.siga()\n",
    "    carro.direita()\n",
    "    carro.esquerda()\n",
    "    carro.siga()\n",
    "    carro.direita()\n",
    "    carro.siga()\n",
    "\n",
    "    senão se carro.direita()\n",
    "\n",
    "    carro.siga()\n",
    "    carro.esquerda()\n",
    "    carro.siga()\n",
    "    carro.esquerda()\n",
    "    carro.siga()\n",
    "\n",
    "    senão\n",
    "\n",
    "    carro.siga()\n",
    "\n",
    "    carro.pare()"
   ]
  },
  {
   "cell_type": "markdown",
   "id": "cc0a6808-5266-4bf9-b4ab-2e3067d89314",
   "metadata": {},
   "source": [
    "###############################################################   \n",
    "    \n",
    "    carro.siga()\n",
    "\n",
    "    if carro.esquerda():\n",
    "        carro.siga()\n",
    "        carro.direita()\n",
    "        carro.siga()\n",
    "        carro.direita()\n",
    "        carro.esquerda()\n",
    "        carro.siga()\n",
    "        carro.direita()\n",
    "        carro.siga()\n",
    "\n",
    "    elif carro.direita():\n",
    "        carro.siga()\n",
    "        carro.esquerda()\n",
    "        carro.siga()\n",
    "        carro.esquerda()\n",
    "        carro.siga()\n",
    "\n",
    "    elif carro.ré():    \n",
    "       \n",
    "    else:\n",
    "        carro.siga()\n",
    "\n",
    "    carro.pare()"
   ]
  },
  {
   "cell_type": "code",
   "execution_count": 8,
   "id": "22db102d-d4d3-4469-8ba5-1de32f87ea0b",
   "metadata": {},
   "outputs": [
    {
     "name": "stdin",
     "output_type": "stream",
     "text": [
      "Qual é o seu nome? Pedro\n"
     ]
    },
    {
     "name": "stdout",
     "output_type": "stream",
     "text": [
      "Seu nome é bem popular no Brasil.\n",
      "Tenha um bom dia, Pedro\n"
     ]
    }
   ],
   "source": [
    "nome = str(input('Qual é o seu nome?'))\n",
    "\n",
    "if nome == 'Rosiane':\n",
    "    print('Que nome bonito!')\n",
    "    \n",
    "elif nome == 'Pedro' or nome == 'Maria' or nome == 'João':\n",
    "    print('Seu nome é bem popular no Brasil.')\n",
    "\n",
    "elif nome in 'Ana Paula Juliana':\n",
    "    print('Belo nome feminino!')\n",
    "    \n",
    "else:\n",
    "    print('Seu nome é bem comum.')\n",
    "    \n",
    "print('Tenha um bom dia, {}'.format(nome))"
   ]
  },
  {
   "cell_type": "markdown",
   "id": "42495295-a9a7-4e01-9bde-3c11ecd58a18",
   "metadata": {},
   "source": [
    "###############################################################   \n",
    "\n",
    "    Exemplos"
   ]
  },
  {
   "cell_type": "markdown",
   "id": "b6c3fa2f-e29e-491c-9d9e-a2511e255647",
   "metadata": {},
   "source": [
    "    # Programa que aprova empréstimo bancário para a compra de uma casa. Pergunte o valor da casa, o salário do comprador e em quantos anos ele vai pagar. A prestação mensal não pode exceder 30% do salário ou então o empréstimo será negado."
   ]
  },
  {
   "cell_type": "code",
   "execution_count": 11,
   "id": "1f11c456-cb1c-40a9-8ccb-f40ac5474942",
   "metadata": {},
   "outputs": [
    {
     "name": "stdin",
     "output_type": "stream",
     "text": [
      "Valor da casa: R$ 120000\n",
      "Salário do comprador: R$ 1250\n",
      "Quantos anos de financiamento: 7\n"
     ]
    },
    {
     "name": "stdout",
     "output_type": "stream",
     "text": [
      "Empréstimo negado!\n",
      "Para pagar uma casa de R$120000.00 em 7 anos, a prestação será de R$1428.57.\n"
     ]
    }
   ],
   "source": [
    "casa = float(input('Valor da casa: R$'))\n",
    "salario = float(input('Salário do comprador: R$'))\n",
    "anos = int(input('Quantos anos de financiamento:'))\n",
    "prestacao = casa / ( anos * 12)\n",
    "minimo = salario * 30 / 100\n",
    "\n",
    "\n",
    "if prestacao > minimo:\n",
    "    print('Empréstimo negado!')\n",
    "\n",
    "else:\n",
    "    print('Empréstimo concedido!')\n",
    "\n",
    "\n",
    "print('Para pagar uma casa de R${:.2f} em {} anos,'.format(casa, anos), end = '')\n",
    "print(' a prestação será de R${:.2f}.'.format(prestacao))"
   ]
  },
  {
   "cell_type": "code",
   "execution_count": null,
   "id": "5aa88366-aad1-4a3d-b486-5e4217f99842",
   "metadata": {},
   "outputs": [],
   "source": [
    " "
   ]
  },
  {
   "cell_type": "markdown",
   "id": "cd3cfd65-c52e-4255-8dbc-3786f898a5d0",
   "metadata": {},
   "source": [
    "    #  Programa que lê um número inteiro qualquer e peça para o usuário escolher qual será a base de conversão: 1 para binário, 2 para octal e 3 para hexadecimal."
   ]
  },
  {
   "cell_type": "code",
   "execution_count": null,
   "id": "de0de9e7-3715-4a18-a9dd-1eeb16fb7acd",
   "metadata": {},
   "outputs": [
    {
     "name": "stdin",
     "output_type": "stream",
     "text": [
      "Digite um número inteiro: 321\n"
     ]
    },
    {
     "name": "stdout",
     "output_type": "stream",
     "text": [
      "Escolha uma das bases para conversão:\n",
      "[ 1 ] converter para BINÁRIO\n",
      "[ 2 ] converter para OCTAL\n",
      "[ 3 ] converter para HEXADECIMAL\n"
     ]
    },
    {
     "name": "stdin",
     "output_type": "stream",
     "text": [
      "Sua opção:  3\n"
     ]
    },
    {
     "name": "stdout",
     "output_type": "stream",
     "text": [
      "321 convertido para HEXADECIMAL é igual a 0b101000001\n"
     ]
    }
   ],
   "source": [
    "n = int(input('Digite um número inteiro:'))\n",
    "\n",
    "print('''Escolha uma das bases para conversão:\n",
    "[ 1 ] converter para BINÁRIO\n",
    "[ 2 ] converter para OCTAL\n",
    "[ 3 ] converter para HEXADECIMAL''')\n",
    "\n",
    "opcao = int(input('Sua opção: '))      \n",
    "\n",
    "if opcao == 1:\n",
    "    print('{} convertido para BINÁRIO é igual a {}'.format(n, bin(n)))\n",
    "    \n",
    "elif opcao == 2:\n",
    "    print('{} convertido para OCTAL é igual a {}'.format(n, bin(n)))\n",
    "    \n",
    "elif opcao == 3:\n",
    "    print('{} convertido para HEXADECIMAL é igual a {}'.format(n, bin(n)))\n",
    "    \n",
    "else:\n",
    "    print('Opção inválida. Tente novamente.')"
   ]
  },
  {
   "cell_type": "code",
   "execution_count": null,
   "id": "0fd8c7e3-a34e-4517-b625-74c52f71d234",
   "metadata": {},
   "outputs": [],
   "source": []
  },
  {
   "cell_type": "markdown",
   "id": "757e4fa9-3c44-4a8a-b236-1861f34e7e05",
   "metadata": {},
   "source": [
    "    # Programa que lê dois números inteiros e compare-os, mostrando na tela uma mensagem:\n",
    "    – O primeiro valor é maior\n",
    "    – O segundo valor é maior\n",
    "    – Não existe valor maior, os dois são iguais"
   ]
  },
  {
   "cell_type": "code",
   "execution_count": 24,
   "id": "c91d10b5-c8f2-4a68-8fb7-7ebcfbf5dfd9",
   "metadata": {},
   "outputs": [
    {
     "name": "stdin",
     "output_type": "stream",
     "text": [
      "Primeiro número: 6\n",
      "Segundo número: 1\n"
     ]
    },
    {
     "name": "stdout",
     "output_type": "stream",
     "text": [
      "O primeiro valor é maior\n"
     ]
    }
   ],
   "source": [
    "n1 = int(input('Primeiro número:'))\n",
    "n2 = int(input('Segundo número:'))\n",
    "\n",
    "if n1 > n2:\n",
    "    print('O primeiro valor é maior')\n",
    "    \n",
    "elif n2 <  n1:\n",
    "    print('O segundo valor é maior')\n",
    "    \n",
    "elif n1 == n2:\n",
    "    print('Não existe valor maior, os dois são iguais')"
   ]
  },
  {
   "cell_type": "code",
   "execution_count": null,
   "id": "726a778c-2a8a-40dc-af4f-29621f8e3784",
   "metadata": {},
   "outputs": [],
   "source": []
  },
  {
   "cell_type": "markdown",
   "id": "377458fe-cc16-4c1f-becc-8321e49ad4c2",
   "metadata": {},
   "source": [
    "    # Programa que lê o ano de nascimento de um jovem e informa se ele vai se alistar ao serviço militar, se é a hora exata de se alistar ou se já passou do tempo do alistamento. Também deve mostrar o tempo que falta ou que passou do prazo."
   ]
  },
  {
   "cell_type": "code",
   "execution_count": 25,
   "id": "91dea1f7-d4db-4617-9d34-12e24769cbb8",
   "metadata": {},
   "outputs": [],
   "source": [
    "from datetime import date"
   ]
  },
  {
   "cell_type": "code",
   "execution_count": 40,
   "id": "8fd40bd3-183e-4fe1-9411-e60b94b9d8a0",
   "metadata": {},
   "outputs": [
    {
     "name": "stdin",
     "output_type": "stream",
     "text": [
      "Ano de nascimento:  2004\n"
     ]
    },
    {
     "name": "stdout",
     "output_type": "stream",
     "text": [
      "Quem nasceu em 2004 tem 18 anos em 2022.\n",
      "Vocẽ tem que se alistar esse ano.\n"
     ]
    }
   ],
   "source": [
    "atual = date.today().year\n",
    "nasc = int(input('Ano de nascimento: '))\n",
    "idade = atual - nasc\n",
    "\n",
    "print('Quem nasceu em {} tem {} anos em {}.'.format(nasc, idade, atual))\n",
    "\n",
    "if idade == 18:\n",
    "    print('Vocẽ tem que se alistar esse ano.')\n",
    "    \n",
    "elif idade < 18:\n",
    "    saldo = 18 - idade\n",
    "    print('Você ainda não tem 18 anos. Ainda faltam {} para o alistamento.'.format(saldo))\n",
    "    ano = atual + saldo\n",
    "    print('Seu alistamento será em {}.'.format(ano))\n",
    "\n",
    "elif idade > 18:\n",
    "    saldo = idade - 18\n",
    "    print('Você já deveria ter se alistado há {} anos.'.format(saldo))\n",
    "    ano = atual - saldo\n",
    "    print('Seu alistamento foi em {}.'.format(ano))\n",
    "\n"
   ]
  },
  {
   "cell_type": "code",
   "execution_count": null,
   "id": "e79ed18d-dfb7-4300-a985-2c7c2b24746a",
   "metadata": {},
   "outputs": [],
   "source": []
  },
  {
   "cell_type": "markdown",
   "id": "5063b032-b432-4d64-9dca-d55d94eaf86a",
   "metadata": {},
   "source": [
    "    # Programa que lê duas notas e calcula a média, mostrando uma mensagem de acordo com a média atingida:\n",
    "    – Média abaixo de 5.0: REPROVADO\n",
    "    – Média entre 5.0 e 6.9: RECUPERAÇÃO\n",
    "    – Média 7.0 ou superior: APROVADO"
   ]
  },
  {
   "cell_type": "code",
   "execution_count": 68,
   "id": "cbec10f2-7131-42c7-80be-86bb1d07d2dd",
   "metadata": {},
   "outputs": [
    {
     "name": "stdin",
     "output_type": "stream",
     "text": [
      "Primeira nota:  7.2\n",
      "Segunda nota:  6.5\n"
     ]
    },
    {
     "name": "stdout",
     "output_type": "stream",
     "text": [
      "O aluno está em recuperação.\n",
      "Tirando 7.2 e 6.5, a médida do aluno é 6.8.\n"
     ]
    }
   ],
   "source": [
    "p1 = float(input('Primeira nota: '))\n",
    "p2 = float(input('Segunda nota: '))\n",
    "m = (p1 + p2)  / 2\n",
    "\n",
    "if 6.9 > m >= 5: # maior que 6.9 e maior ou igual a 5\n",
    "    print('O aluno está em recuperação.')\n",
    "    \n",
    "elif m < 5: # menor\n",
    "    print('O aluno está reprovado.')\n",
    "    \n",
    "elif m >= 7: # maior ou igual a 7\n",
    "    print('O aluno está aprovado.')\n",
    "    \n",
    "print('Tirando {:.1f} e {:.1f}, a médida do aluno é {:.1f}.'.format(p1, p2, m))\n"
   ]
  },
  {
   "cell_type": "code",
   "execution_count": null,
   "id": "d5a7767b-7b30-4f0d-ad79-5998b822d927",
   "metadata": {},
   "outputs": [],
   "source": []
  },
  {
   "cell_type": "markdown",
   "id": "5139655f-7b21-456a-9cf3-974b60346035",
   "metadata": {},
   "source": [
    "    # Programa que lê o ano de nascimento de um atleta e mostre a categoria, de acordo com a idade:\n",
    "    – Até 9 anos: MIRIM\n",
    "    – Até 14 anos: INFANTIL\n",
    "    – Até 19 anos: JÚNIOR\n",
    "    – Até 25 anos: SÊNIOR\n",
    "    – Acima de 25 anos: MASTER"
   ]
  },
  {
   "cell_type": "code",
   "execution_count": 77,
   "id": "2e005646-6b24-4e27-a4f4-20478ba896ec",
   "metadata": {},
   "outputs": [
    {
     "name": "stdin",
     "output_type": "stream",
     "text": [
      "Ano de nascimento:  1985\n"
     ]
    },
    {
     "name": "stdout",
     "output_type": "stream",
     "text": [
      "O atleta tem 37 anos.\n",
      "Pertence à categoria master.\n"
     ]
    }
   ],
   "source": [
    "atual = date.today().year\n",
    "data = int(input('Ano de nascimento: '))\n",
    "idade = atual - data\n",
    "\n",
    "print('O atleta tem {} anos.'.format(idade))\n",
    "\n",
    "if idade <= 9: # menor ou igual\n",
    "    print('Pertence à categoria mirim.')\n",
    "    \n",
    "elif idade <= 14:\n",
    "    print('Pertence à categoria infantil.')\n",
    "\n",
    "elif idade <= 19:\n",
    "    print('Pertence à categoria júnior.')\n",
    "    \n",
    "elif idade <= 25:\n",
    "    print('Pertence à categoria sênior.')\n",
    "\n",
    "else:\n",
    "    print('Pertence à categoria master.')"
   ]
  },
  {
   "cell_type": "code",
   "execution_count": null,
   "id": "9992e71d-dd7d-4ad6-82d4-c2edddf48299",
   "metadata": {},
   "outputs": [],
   "source": []
  },
  {
   "cell_type": "markdown",
   "id": "29922f82-0a46-47be-93a9-65707d4d3402",
   "metadata": {},
   "source": [
    "    # Programa pra ler o comprimento de 3 retas, verificar se pode formar triangulo e qual tipo:\n",
    "    – EQUILÁTERO: todos os lados iguais\n",
    "    – ISÓSCELES: dois lados iguais, um diferente\n",
    "    – ESCALENO: todos os lados diferentes"
   ]
  },
  {
   "cell_type": "code",
   "execution_count": 7,
   "id": "6c7b295a-65dc-4a92-b70e-1e10d7c7afff",
   "metadata": {},
   "outputs": [
    {
     "name": "stdin",
     "output_type": "stream",
     "text": [
      "Primeiro segmento: 8\n",
      "Segundo segmento: 6\n",
      "Terceiro segmento: 4\n"
     ]
    },
    {
     "name": "stdout",
     "output_type": "stream",
     "text": [
      "Os segmentos acima PODEM FORMAR um triângulo ESCALENO!\n"
     ]
    }
   ],
   "source": [
    "r1 = float(input('Primeiro segmento:'))\n",
    "r2 = float(input('Segundo segmento:'))\n",
    "r3 = float(input('Terceiro segmento:'))\n",
    "\n",
    "if r1 < (r2 + r3) and r2 < (r1 + r3) and r3 < (r1 + r2):\n",
    "    print('Os segmentos acima PODEM FORMAR um triângulo', end='')\n",
    "    if r1 == r2 == r3:\n",
    "        print(' EQUILÁTERO!')\n",
    "        \n",
    "    elif r1 != r2 != r3 != r1:\n",
    "        print(' ESCALENO!')\n",
    "        \n",
    "    else:\n",
    "        print(' ISÓSCELES!')    \n",
    "    \n",
    "else:\n",
    "    print('Os segmentos acima NÃO PODEM FORMAR um triângulo!')    "
   ]
  },
  {
   "cell_type": "code",
   "execution_count": null,
   "id": "cdde1e43-049c-4d5d-9dcb-ffa2c32083c8",
   "metadata": {},
   "outputs": [],
   "source": []
  },
  {
   "cell_type": "markdown",
   "id": "06d2cfae-65f0-45d7-8d26-23e022d87602",
   "metadata": {},
   "source": [
    "    # Programa que lê o peso e a altura, calcula o Índice de Massa Corporal (IMC) e mostra o status, de acordo com a tabela abaixo:\n",
    "    – IMC abaixo de 18,5: Abaixo do Peso\n",
    "    – Entre 18,5 e 25: Peso Ideal\n",
    "    – 25 até 30: Sobrepeso\n",
    "    – 30 até 40: Obesidade\n",
    "    – Acima de 40: Obesidade Mórbida"
   ]
  },
  {
   "cell_type": "code",
   "execution_count": 22,
   "id": "1bbfc34d-1e69-4fe1-a921-bcb1db824e3c",
   "metadata": {},
   "outputs": [
    {
     "name": "stdin",
     "output_type": "stream",
     "text": [
      "Qual é seu peso? (Kg) 65\n",
      "Qual é sua altura? (m) 1.65\n"
     ]
    },
    {
     "name": "stdout",
     "output_type": "stream",
     "text": [
      "IMC 23.9: Peso Ideal\n"
     ]
    }
   ],
   "source": [
    "peso = float(input('Qual é seu peso? (Kg)'))\n",
    "altura = float(input('Qual é sua altura? (m)'))\n",
    "imc = peso / (altura * altura)\n",
    "\n",
    "if imc < 18.5:\n",
    "    print('IMC {:.1f}: Abaixo do Peso'.format(imc))\n",
    "    \n",
    "elif 18.5 <= imc < 25:\n",
    "    print('IMC {:.1f}: Peso Ideal'.format(imc))\n",
    "    \n",
    "elif 25 <= imc <= 30:\n",
    "    print('IMC {:.1f}: Sobrepeso'.format(imc))\n",
    "    \n",
    "elif 30 <= imc <= 40:\n",
    "    print('IMC {:.1f}: Obesidade'.format(imc))\n",
    "    \n",
    "elif imc >= 40:\n",
    "    print('IMC {:.1f}: Obesidade Mórbida'.format(imc))"
   ]
  },
  {
   "cell_type": "code",
   "execution_count": null,
   "id": "5ce4ecd2-be4e-4d1d-a59b-0864461e91d8",
   "metadata": {},
   "outputs": [],
   "source": []
  },
  {
   "cell_type": "markdown",
   "id": "d8293e04-428d-4bfa-b86f-d7089a30fbb2",
   "metadata": {},
   "source": [
    "    # Programa que calcule o preço normal de um produto e condição de pagamento:\n",
    "    – à vista dinheiro/cheque: 10% de desconto\n",
    "    – à vista no cartão: 5% de desconto\n",
    "    – em até 2x no cartão: preço formal \n",
    "    – 3x ou mais no cartão: 20% de juros"
   ]
  },
  {
   "cell_type": "code",
   "execution_count": 25,
   "id": "7c575040-937c-4c66-9677-fe90f3dfc48b",
   "metadata": {},
   "outputs": [
    {
     "name": "stdin",
     "output_type": "stream",
     "text": [
      "Preço das compras: R$ 500\n"
     ]
    },
    {
     "name": "stdout",
     "output_type": "stream",
     "text": [
      "FORMAS DE PAGAMENTO\n",
      "[ 1 ] à vista dinheiro/cheque: 10% de desconto\n",
      "[ 2 ] à vista no cartão: 5% de desconto\n",
      "[ 3 ] em até 2x no cartão: preço formal \n",
      "[ 4 ] 3x ou mais no cartão: 20% de juros\n"
     ]
    },
    {
     "name": "stdin",
     "output_type": "stream",
     "text": [
      "Qual é a opção:  4\n",
      "Quantas parcelas? 7\n"
     ]
    },
    {
     "name": "stdout",
     "output_type": "stream",
     "text": [
      "Sua compra será parcelada em 7x de R$85.71 com juros.\n",
      "Sua compra de R$500.00, no final vai custar R$600.00.\n"
     ]
    }
   ],
   "source": [
    "preco = int(input('Preço das compras: R$'))\n",
    "\n",
    "print('''FORMAS DE PAGAMENTO\n",
    "[ 1 ] à vista dinheiro/cheque: 10% de desconto\n",
    "[ 2 ] à vista no cartão: 5% de desconto\n",
    "[ 3 ] em até 2x no cartão: preço formal \n",
    "[ 4 ] 3x ou mais no cartão: 20% de juros''')\n",
    "\n",
    "opcao = int(input('Qual é a opção: '))      \n",
    "\n",
    "if opcao == 1:\n",
    "    total = preco - (preco * 10 / 100)\n",
    "    \n",
    "elif opcao == 2:\n",
    "    total = preco - (preco * 5 / 100)\n",
    "    \n",
    "elif opcao == 3:\n",
    "    total = preco\n",
    "    parcela = total / 2 \n",
    "    print('Sua compra será parcelada em 2x de R${:.2f}.'.format(parcela))\n",
    "    \n",
    "elif opcao == 4:\n",
    "    total = preco + (preco * 20 / 100)\n",
    "    totparc = int(input('Quantas parcelas?'))\n",
    "    parcela = total / totparc\n",
    "    print('Sua compra será parcelada em {}x de R${:.2f} com juros.'.format(totparc, parcela))\n",
    "\n",
    "print('Sua compra de R${:.2f}, no final vai custar R${:.2f}.'.format(preco, total))"
   ]
  },
  {
   "cell_type": "code",
   "execution_count": null,
   "id": "0b093bfb-669a-45dc-92ff-9ca89ac763f5",
   "metadata": {},
   "outputs": [],
   "source": []
  },
  {
   "cell_type": "code",
   "execution_count": null,
   "id": "147dae45-a190-49f6-9984-73d3846cd19f",
   "metadata": {},
   "outputs": [],
   "source": []
  }
 ],
 "metadata": {
  "kernelspec": {
   "display_name": "Python 3 (ipykernel)",
   "language": "python",
   "name": "python3"
  },
  "language_info": {
   "codemirror_mode": {
    "name": "ipython",
    "version": 3
   },
   "file_extension": ".py",
   "mimetype": "text/x-python",
   "name": "python",
   "nbconvert_exporter": "python",
   "pygments_lexer": "ipython3",
   "version": "3.10.4"
  }
 },
 "nbformat": 4,
 "nbformat_minor": 5
}

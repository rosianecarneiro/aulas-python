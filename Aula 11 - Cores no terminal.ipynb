{
 "cells": [
  {
   "cell_type": "markdown",
   "id": "dfd72759-93e5-47bb-b948-107d536f0133",
   "metadata": {},
   "source": [
    "**Aula 11 - Cores no Terminal**"
   ]
  },
  {
   "cell_type": "markdown",
   "id": "00fb173f-a6f1-4422-96f0-6170380593c5",
   "metadata": {},
   "source": [
    "    STYLE         #  TEXT           #  BACK\n",
    "    0 - none      #  30 - white     #  40 - white   \n",
    "\n",
    "    1 - bold      #  31 - red       #  41 - red\n",
    "\n",
    "    4 - underline #  32 - green     #  42 - green\n",
    "\n",
    "    7 - negative  #  33 - yellow    #  43 - yellow\n",
    "\n",
    "                  #  34 - blue      #  44 - blue\n",
    "               \n",
    "                  #  35 - magenta   #  45 - magenta\n",
    "              \n",
    "                  #  36 - cyan      #  46 - cyan\n",
    "              \n",
    "                  #  37 - grey      #  47 - grey"
   ]
  },
  {
   "cell_type": "markdown",
   "id": "42731930-aec7-4b57-8bf7-97d63519355a",
   "metadata": {},
   "source": [
    "    # \\033[style;text;backm"
   ]
  },
  {
   "cell_type": "code",
   "execution_count": 5,
   "id": "ee643e96-96a0-4a00-86fa-ea24b69a9efe",
   "metadata": {},
   "outputs": [
    {
     "name": "stdout",
     "output_type": "stream",
     "text": [
      "\u001b[0;30;41mTeste\n"
     ]
    }
   ],
   "source": [
    "print('\\033[0;30;41mTeste')"
   ]
  },
  {
   "cell_type": "code",
   "execution_count": 6,
   "id": "11c53fb5-6773-41e7-9939-1825c1e1c25b",
   "metadata": {},
   "outputs": [
    {
     "name": "stdout",
     "output_type": "stream",
     "text": [
      "\u001b[4;33;44mTeste\n"
     ]
    }
   ],
   "source": [
    "print('\\033[4;33;44mTeste')"
   ]
  },
  {
   "cell_type": "code",
   "execution_count": 7,
   "id": "0f8562b2-ac82-465d-a8cd-6a3e2d1ab4bf",
   "metadata": {},
   "outputs": [
    {
     "name": "stdout",
     "output_type": "stream",
     "text": [
      "\u001b[1;35;43mTeste\n"
     ]
    }
   ],
   "source": [
    "print('\\033[1;35;43mTeste')"
   ]
  },
  {
   "cell_type": "code",
   "execution_count": 8,
   "id": "e77ac14c-5d7e-4bac-8fd1-e54fce882cd5",
   "metadata": {},
   "outputs": [
    {
     "name": "stdout",
     "output_type": "stream",
     "text": [
      "\u001b[30;42mTeste\n"
     ]
    }
   ],
   "source": [
    "print('\\033[30;42mTeste')"
   ]
  },
  {
   "cell_type": "code",
   "execution_count": 10,
   "id": "c5f55827-ad06-4c43-9650-062144b6e455",
   "metadata": {},
   "outputs": [
    {
     "name": "stdout",
     "output_type": "stream",
     "text": [
      "\u001b[mTeste\n"
     ]
    }
   ],
   "source": [
    "print('\\033[mTeste')"
   ]
  },
  {
   "cell_type": "code",
   "execution_count": 11,
   "id": "970a8ce4-17bb-4642-85d7-dbfc5b50e9d3",
   "metadata": {},
   "outputs": [
    {
     "name": "stdout",
     "output_type": "stream",
     "text": [
      "\u001b[7;30mTeste\n"
     ]
    }
   ],
   "source": [
    "print('\\033[7;30mTeste')"
   ]
  },
  {
   "cell_type": "code",
   "execution_count": null,
   "id": "e639c598-825e-4d75-a187-eecf564f64c3",
   "metadata": {},
   "outputs": [],
   "source": []
  }
 ],
 "metadata": {
  "kernelspec": {
   "display_name": "Python 3 (ipykernel)",
   "language": "python",
   "name": "python3"
  },
  "language_info": {
   "codemirror_mode": {
    "name": "ipython",
    "version": 3
   },
   "file_extension": ".py",
   "mimetype": "text/x-python",
   "name": "python",
   "nbconvert_exporter": "python",
   "pygments_lexer": "ipython3",
   "version": "3.10.6"
  }
 },
 "nbformat": 4,
 "nbformat_minor": 5
}

{
 "cells": [
  {
   "cell_type": "markdown",
   "id": "9c06f0b9-a42b-4d9b-9ff8-705a2f24dda2",
   "metadata": {},
   "source": [
    "**Manipulando Texto**"
   ]
  },
  {
   "cell_type": "markdown",
   "id": "9a2132f5-de2e-4bed-a796-aa01f2c55441",
   "metadata": {},
   "source": [
    "    # Manipulando Cadeias de Texto\n",
    "     frase -> string/cadeia de caractere/cadeia de texto\n",
    "     \n",
    "     string -> possui um numero de caracteres que pode ser separado\n",
    "\n",
    "\n",
    "    # OPERACOES COM STRING\n",
    "     -> fatiamento de string\n",
    "     -> analise com len(), count(), find()\n",
    "     -> transformacoes com replace(), upper(), lower(), capitalize(), title(), strip()\n",
    "     -> juncao com join()"
   ]
  },
  {
   "cell_type": "code",
   "execution_count": 2,
   "id": "525bccb9-500a-4e39-a5c7-b92492719431",
   "metadata": {},
   "outputs": [],
   "source": [
    "frase = 'Curso em Vídeo Python'  \n",
    "\n",
    "# atribuicao de string dentro de variavel\n",
    "# contagem inicia em 0\n"
   ]
  },
  {
   "cell_type": "markdown",
   "id": "fe7342fb-66b0-4691-9ff1-563478f124c3",
   "metadata": {},
   "source": [
    "    # FATIAMENTO -> pegar uma letra, nao conta o ultimo valor do range "
   ]
  },
  {
   "cell_type": "code",
   "execution_count": 32,
   "id": "cf13da63-e5e3-464f-8bc9-dbec27c732da",
   "metadata": {},
   "outputs": [
    {
     "data": {
      "text/plain": [
       "'V'"
      ]
     },
     "execution_count": 32,
     "metadata": {},
     "output_type": "execute_result"
    }
   ],
   "source": [
    "frase[9]   # seleciona apenas letra 'V', num 9"
   ]
  },
  {
   "cell_type": "code",
   "execution_count": 25,
   "id": "e1235b78-a963-45c7-808a-b9abbb561750",
   "metadata": {},
   "outputs": [
    {
     "data": {
      "text/plain": [
       "'Víde'"
      ]
     },
     "execution_count": 25,
     "metadata": {},
     "output_type": "execute_result"
    }
   ],
   "source": [
    "frase[9:13] # seleciona do 'V' ao 'e', num 9 até 12"
   ]
  },
  {
   "cell_type": "code",
   "execution_count": 26,
   "id": "49002a1c-4fb5-4578-9ae1-c7c72a445ef3",
   "metadata": {},
   "outputs": [
    {
     "data": {
      "text/plain": [
       "'Vídeo'"
      ]
     },
     "execution_count": 26,
     "metadata": {},
     "output_type": "execute_result"
    }
   ],
   "source": [
    "frase[9:14] # seleciona do 'V' ao 'o', num 9 até 13"
   ]
  },
  {
   "cell_type": "code",
   "execution_count": 27,
   "id": "9ed53311-d3a6-47d4-bda0-82cbecc322c1",
   "metadata": {},
   "outputs": [
    {
     "data": {
      "text/plain": [
       "'Vídeo Python'"
      ]
     },
     "execution_count": 27,
     "metadata": {},
     "output_type": "execute_result"
    }
   ],
   "source": [
    "frase[9:21] # seleciona do 'V' ao 'n', num 9 até 20"
   ]
  },
  {
   "cell_type": "code",
   "execution_count": 28,
   "id": "1b3b02e0-c7e6-44c9-95d4-e2cfbd764188",
   "metadata": {},
   "outputs": [
    {
     "data": {
      "text/plain": [
       "'VdoPto'"
      ]
     },
     "execution_count": 28,
     "metadata": {},
     "output_type": "execute_result"
    }
   ],
   "source": [
    "frase[9:21:2] # seleciona do num 9 até 20, pulando de 2 em 2"
   ]
  },
  {
   "cell_type": "code",
   "execution_count": 29,
   "id": "9bb48590-2cfc-47ad-b032-4424f02b21d6",
   "metadata": {},
   "outputs": [
    {
     "data": {
      "text/plain": [
       "'Curso'"
      ]
     },
     "execution_count": 29,
     "metadata": {},
     "output_type": "execute_result"
    }
   ],
   "source": [
    "frase[:5] # quando omite o num inicial começa do inicio e vai até o num 5, exceto o 5 -> 'curso'"
   ]
  },
  {
   "cell_type": "code",
   "execution_count": 30,
   "id": "a90ef47f-d5a6-48e0-9b62-7f4da19c26c9",
   "metadata": {},
   "outputs": [
    {
     "data": {
      "text/plain": [
       "'Python'"
      ]
     },
     "execution_count": 30,
     "metadata": {},
     "output_type": "execute_result"
    }
   ],
   "source": [
    "frase[15:] # omitir o final indica que vai começar no 15 e parar no final -> 'python'"
   ]
  },
  {
   "cell_type": "code",
   "execution_count": 31,
   "id": "ca90081a-5b9d-4dae-b6bd-f63344bdd22c",
   "metadata": {},
   "outputs": [
    {
     "data": {
      "text/plain": [
       "'VePh'"
      ]
     },
     "execution_count": 31,
     "metadata": {},
     "output_type": "execute_result"
    }
   ],
   "source": [
    "frase[9::3] # começa no 9 e vai ate o final pq nao tem numero entre os dois pontos, saltando de 3 em 3"
   ]
  },
  {
   "cell_type": "markdown",
   "id": "344440ee-3142-43b4-8424-84e8a3d650c8",
   "metadata": {},
   "source": [
    "    # ANALISE \n",
    "     -> saber informacoes sobre a string\n",
    "     \n",
    "     -> ex: qual tamanho, que letra começa, que letra termina, qual primeira palavra inteira"
   ]
  },
  {
   "cell_type": "code",
   "execution_count": 3,
   "id": "4bae1803-7748-4f9f-8fb9-18ef42b07526",
   "metadata": {},
   "outputs": [
    {
     "data": {
      "text/plain": [
       "21"
      ]
     },
     "execution_count": 3,
     "metadata": {},
     "output_type": "execute_result"
    }
   ],
   "source": [
    "len(frase) # length -> comprimento, indica quantos caracteres tem a string"
   ]
  },
  {
   "cell_type": "code",
   "execution_count": 8,
   "id": "277477df-281a-46b4-b96a-98f0c48bf72e",
   "metadata": {},
   "outputs": [
    {
     "data": {
      "text/plain": [
       "18"
      ]
     },
     "execution_count": 8,
     "metadata": {},
     "output_type": "execute_result"
    }
   ],
   "source": [
    "len(frase) - frase.count(' ') # conta caracteres menos quantos espaços tem"
   ]
  },
  {
   "cell_type": "code",
   "execution_count": 36,
   "id": "fc8a798e-6f3f-4c15-810d-adae13f2547e",
   "metadata": {},
   "outputs": [
    {
     "data": {
      "text/plain": [
       "3"
      ]
     },
     "execution_count": 36,
     "metadata": {},
     "output_type": "execute_result"
    }
   ],
   "source": [
    "frase.count('o') # contar quantas vezes aparece a letra 'O'"
   ]
  },
  {
   "cell_type": "code",
   "execution_count": 37,
   "id": "a9515faa-0d66-4e34-936a-0df6f20e8c87",
   "metadata": {},
   "outputs": [
    {
     "data": {
      "text/plain": [
       "1"
      ]
     },
     "execution_count": 37,
     "metadata": {},
     "output_type": "execute_result"
    }
   ],
   "source": [
    "frase.count('o',0,13) # quantas vezes aparece letra 'O', indo do zero ao treze"
   ]
  },
  {
   "cell_type": "code",
   "execution_count": 38,
   "id": "988da0e2-3001-403c-9bf2-25cf6f355e17",
   "metadata": {},
   "outputs": [
    {
     "data": {
      "text/plain": [
       "11"
      ]
     },
     "execution_count": 38,
     "metadata": {},
     "output_type": "execute_result"
    }
   ],
   "source": [
    "frase.find('deo') # em que momento encontrou 'DEO'"
   ]
  },
  {
   "cell_type": "code",
   "execution_count": 39,
   "id": "8fde64cc-163b-4867-9e72-87dfef5f9c3d",
   "metadata": {},
   "outputs": [
    {
     "data": {
      "text/plain": [
       "-1"
      ]
     },
     "execution_count": 39,
     "metadata": {},
     "output_type": "execute_result"
    }
   ],
   "source": [
    "frase.find('Android') # se insere um termo que nao existe na string, retorna -1"
   ]
  },
  {
   "cell_type": "code",
   "execution_count": 41,
   "id": "1a9b4d98-09e2-4730-892c-56c1b4df0b46",
   "metadata": {},
   "outputs": [
    {
     "data": {
      "text/plain": [
       "True"
      ]
     },
     "execution_count": 41,
     "metadata": {},
     "output_type": "execute_result"
    }
   ],
   "source": [
    "'Curso' in frase # operador IN verifica se existe a palavra dentro da string, retorna True ou False"
   ]
  },
  {
   "cell_type": "code",
   "execution_count": 42,
   "id": "b5e3504d-d2a4-49c3-8296-718e5081fe21",
   "metadata": {},
   "outputs": [
    {
     "data": {
      "text/plain": [
       "False"
      ]
     },
     "execution_count": 42,
     "metadata": {},
     "output_type": "execute_result"
    }
   ],
   "source": [
    "'curso' in frase # python diferencia minuscula de maiuscula"
   ]
  },
  {
   "cell_type": "markdown",
   "id": "c1692a91-8805-4d93-bfde-d6416048d0e4",
   "metadata": {},
   "source": [
    "    # TRANSFORMACAO\n",
    "\n",
    "     -> string é imutavel\n",
    "     -> pode ser transformada atraves de metodos"
   ]
  },
  {
   "cell_type": "code",
   "execution_count": 43,
   "id": "2c6e06bf-4994-415c-a04d-b3598800c090",
   "metadata": {},
   "outputs": [
    {
     "data": {
      "text/plain": [
       "'Curso em Vídeo Android'"
      ]
     },
     "execution_count": 43,
     "metadata": {},
     "output_type": "execute_result"
    }
   ],
   "source": [
    "frase.replace('Python','Android') # substitui trechos de uma string"
   ]
  },
  {
   "cell_type": "code",
   "execution_count": 44,
   "id": "2c85c9d6-dcd3-4479-bbce-4f5945167431",
   "metadata": {},
   "outputs": [
    {
     "data": {
      "text/plain": [
       "'CURSO EM VÍDEO PYTHON'"
      ]
     },
     "execution_count": 44,
     "metadata": {},
     "output_type": "execute_result"
    }
   ],
   "source": [
    "frase.upper() # coloca maiusculo"
   ]
  },
  {
   "cell_type": "code",
   "execution_count": 45,
   "id": "bdb64aa7-99b3-4947-b536-babc59fae848",
   "metadata": {},
   "outputs": [
    {
     "data": {
      "text/plain": [
       "'curso em vídeo python'"
      ]
     },
     "execution_count": 45,
     "metadata": {},
     "output_type": "execute_result"
    }
   ],
   "source": [
    "frase.lower() # coloca minusculo"
   ]
  },
  {
   "cell_type": "code",
   "execution_count": 46,
   "id": "af3909fc-a80e-4450-8668-ea069b23de77",
   "metadata": {},
   "outputs": [
    {
     "data": {
      "text/plain": [
       "'Curso em vídeo python'"
      ]
     },
     "execution_count": 46,
     "metadata": {},
     "output_type": "execute_result"
    }
   ],
   "source": [
    "frase.capitalize() # primeiro caractere maiusculo, restante minusculo"
   ]
  },
  {
   "cell_type": "code",
   "execution_count": 47,
   "id": "694a2f2a-b697-4a22-896f-11647e90eeb0",
   "metadata": {},
   "outputs": [
    {
     "data": {
      "text/plain": [
       "'Curso Em Vídeo Python'"
      ]
     },
     "execution_count": 47,
     "metadata": {},
     "output_type": "execute_result"
    }
   ],
   "source": [
    "frase.title() # primeiro caractere de cada palavra maiusculo"
   ]
  },
  {
   "cell_type": "code",
   "execution_count": 19,
   "id": "29fb754e-830b-4b33-b07b-776efacf430f",
   "metadata": {},
   "outputs": [
    {
     "data": {
      "text/plain": [
       "'   Aprenda Python  '"
      ]
     },
     "execution_count": 19,
     "metadata": {},
     "output_type": "execute_result"
    }
   ],
   "source": [
    "frase2 = '   Aprenda Python  '\n",
    "\n",
    "frase2"
   ]
  },
  {
   "cell_type": "code",
   "execution_count": 48,
   "id": "ad53c8dd-fd3e-4bd1-b0a2-0f4330f72b39",
   "metadata": {},
   "outputs": [
    {
     "data": {
      "text/plain": [
       "'Aprenda Python'"
      ]
     },
     "execution_count": 48,
     "metadata": {},
     "output_type": "execute_result"
    }
   ],
   "source": [
    "frase2.strip() # remover espaços excedentes"
   ]
  },
  {
   "cell_type": "code",
   "execution_count": 49,
   "id": "6cffe751-bf36-44ab-b182-2ce975c8741a",
   "metadata": {},
   "outputs": [
    {
     "data": {
      "text/plain": [
       "'   Aprenda Python'"
      ]
     },
     "execution_count": 49,
     "metadata": {},
     "output_type": "execute_result"
    }
   ],
   "source": [
    "frase2.rstrip() # remover espaços da direita"
   ]
  },
  {
   "cell_type": "code",
   "execution_count": 50,
   "id": "1630c27a-b862-487e-ad40-6cde2df60d74",
   "metadata": {},
   "outputs": [
    {
     "data": {
      "text/plain": [
       "'Aprenda Python  '"
      ]
     },
     "execution_count": 50,
     "metadata": {},
     "output_type": "execute_result"
    }
   ],
   "source": [
    "frase2.lstrip() # remover espaços da esquerda"
   ]
  },
  {
   "cell_type": "markdown",
   "id": "127590e0-fb64-45ec-8563-52a5fa4632ef",
   "metadata": {},
   "source": [
    "    # DIVISAO\n",
    "\n",
    "    -> dividir strings em substrings\n",
    "    -> retorna listas\n",
    "\n",
    "    # SINTAXE:\n",
    "    string.split(separator, masxplit)\n",
    "    \n",
    "    -> string: corresponde ao nome da variável que servirá de base para a divisão;\n",
    "    -> separator: indica o caractere utilizado como separador da string;\n",
    "    -> maxsplit: representa a quantidade máxima de divisões realizadas, valor padrao = -1.\n",
    "    \n",
    "    # pode ser usado sem parametros e o separador padrao sera espaco"
   ]
  },
  {
   "cell_type": "code",
   "execution_count": 73,
   "id": "0f0e50c1-4764-456b-9091-878330ee4603",
   "metadata": {},
   "outputs": [
    {
     "data": {
      "text/plain": [
       "['Curso', 'em', 'Vídeo', 'Python']"
      ]
     },
     "execution_count": 73,
     "metadata": {},
     "output_type": "execute_result"
    }
   ],
   "source": [
    "frase.split()"
   ]
  },
  {
   "cell_type": "markdown",
   "id": "ae422a4b-bf25-4cdf-b865-a9f45bddbdbb",
   "metadata": {},
   "source": [
    "Curso = 0\n",
    "\n",
    "em = 1\n",
    "\n",
    "Vídeo = 2\n",
    "\n",
    "Python = 3"
   ]
  },
  {
   "cell_type": "code",
   "execution_count": 80,
   "id": "0b9b88c5-4c82-4ab9-ba9d-59631eed733c",
   "metadata": {},
   "outputs": [
    {
     "name": "stdout",
     "output_type": "stream",
     "text": [
      "['João', 'Paulo', 'Maria', 'Paula', 'Ana', 'Beatriz', 'José Pedro']\n"
     ]
    }
   ],
   "source": [
    "nomes = 'João/Paulo/Maria/Paula/Ana/Beatriz/José Pedro'\n",
    "\n",
    "print(nomes.split('/')) # separador '/'"
   ]
  },
  {
   "cell_type": "code",
   "execution_count": 62,
   "id": "95647c26-fd37-45cc-9c1d-d035b638ce1a",
   "metadata": {},
   "outputs": [
    {
     "name": "stdout",
     "output_type": "stream",
     "text": [
      "['João', 'Paulo', 'Maria', 'Paula/Ana/Beatriz/José Pedro']\n"
     ]
    }
   ],
   "source": [
    "print(nomes.split(\"/\", 3)) # numero de vezes que a string vai ser dividida\n",
    "\n",
    "# quando usa maxsplit é obrigatorio usar parametro separator"
   ]
  },
  {
   "cell_type": "markdown",
   "id": "8a061a67-e8c2-4689-bbdc-fa598aaa273e",
   "metadata": {},
   "source": [
    "    # JUNCAO\n",
    "\n",
    "    -> une elementos que foram separaddos anteriormente\n",
    "    \n",
    "    # SINTAXE\n",
    "\n",
    "    string.join()\n"
   ]
  },
  {
   "cell_type": "code",
   "execution_count": 71,
   "id": "cedc98af-eb54-47fc-afd3-85a1271dbfc8",
   "metadata": {},
   "outputs": [
    {
     "data": {
      "text/plain": [
       "'Curso em Vídeo Python'"
      ]
     },
     "execution_count": 71,
     "metadata": {},
     "output_type": "execute_result"
    }
   ],
   "source": [
    "''.join(frase) # junta todos os elementos de frase"
   ]
  },
  {
   "cell_type": "code",
   "execution_count": 89,
   "id": "66be0838-12ee-4048-85d2-bb79119ad09c",
   "metadata": {},
   "outputs": [
    {
     "data": {
      "text/plain": [
       "'João/Paulo/Maria/Paula/Ana/Beatriz/José Pedro'"
      ]
     },
     "execution_count": 89,
     "metadata": {},
     "output_type": "execute_result"
    }
   ],
   "source": [
    "''.join(nomes)"
   ]
  },
  {
   "cell_type": "code",
   "execution_count": null,
   "id": "83c351f6-e085-447f-a1c3-87aa7c2c5381",
   "metadata": {},
   "outputs": [],
   "source": []
  }
 ],
 "metadata": {
  "kernelspec": {
   "display_name": "Python 3 (ipykernel)",
   "language": "python",
   "name": "python3"
  },
  "language_info": {
   "codemirror_mode": {
    "name": "ipython",
    "version": 3
   },
   "file_extension": ".py",
   "mimetype": "text/x-python",
   "name": "python",
   "nbconvert_exporter": "python",
   "pygments_lexer": "ipython3",
   "version": "3.10.4"
  }
 },
 "nbformat": 4,
 "nbformat_minor": 5
}

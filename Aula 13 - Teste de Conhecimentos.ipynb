{
 "cells": [
  {
   "cell_type": "markdown",
   "id": "0d5af665-506f-4c2e-a977-59bbacfd1665",
   "metadata": {},
   "source": [
    "**Teste Python Mundo 1**"
   ]
  },
  {
   "cell_type": "markdown",
   "id": "a44fdfc9-164f-4bb7-8560-bae7c113c6a7",
   "metadata": {},
   "source": [
    "    Considere a string x = 'curso de python no cursoemvideo'. Qual dos comandos abaixo retornaria a palavra 'curso'?"
   ]
  },
  {
   "cell_type": "code",
   "execution_count": 1,
   "id": "bb8b70de-5420-4938-ba3d-fc02a3cc0064",
   "metadata": {},
   "outputs": [],
   "source": [
    "x = 'curso de python no cursoemvideo'"
   ]
  },
  {
   "cell_type": "code",
   "execution_count": 3,
   "id": "ed5fe51d-64e0-4d6e-bb8d-48729df6d05a",
   "metadata": {},
   "outputs": [
    {
     "data": {
      "text/plain": [
       "'curso'"
      ]
     },
     "execution_count": 3,
     "metadata": {},
     "output_type": "execute_result"
    }
   ],
   "source": [
    "x[:5]"
   ]
  },
  {
   "cell_type": "markdown",
   "id": "97c3a267-ac79-429b-b40b-88e2663effd8",
   "metadata": {},
   "source": [
    "    Considere a string s = 'prova de python'. A instrução len(s) retornaria qual valor?"
   ]
  },
  {
   "cell_type": "code",
   "execution_count": 4,
   "id": "67d8105d-b070-4798-a40d-b31831122950",
   "metadata": {},
   "outputs": [],
   "source": [
    "s = 'prova de python'"
   ]
  },
  {
   "cell_type": "code",
   "execution_count": 5,
   "id": "a92f2e67-d075-41d1-8ed0-f4a2cbc54b74",
   "metadata": {},
   "outputs": [
    {
     "data": {
      "text/plain": [
       "15"
      ]
     },
     "execution_count": 5,
     "metadata": {},
     "output_type": "execute_result"
    }
   ],
   "source": [
    "len(s)"
   ]
  },
  {
   "cell_type": "markdown",
   "id": "5da36e8d-a854-4742-adf0-c6b619133776",
   "metadata": {},
   "source": [
    "    Para o Python, os valores verdadeiro e falso são do tipo ________ e são representados pelos valores ________ e ________. Qual das opções a seguir é a única que contém as palavras que completam as lacunas da frase anterior, na ordem?\n",
    "    \n",
    "    (X) bool/ True/ False"
   ]
  },
  {
   "cell_type": "markdown",
   "id": "fd66bdd5-e7a0-4c3d-a0b2-34c9c652f8ed",
   "metadata": {},
   "source": [
    "    Considerando as variáveis n='José' e i=25, qual das opções abaixo é a única válida como uma string formatada que funcionaria em Python?"
   ]
  },
  {
   "cell_type": "code",
   "execution_count": 8,
   "id": "abed2309-42b0-4a7d-993f-4e19833b6de6",
   "metadata": {},
   "outputs": [
    {
     "name": "stdout",
     "output_type": "stream",
     "text": [
      "Você se chama José e tem 25 anos de idade\n"
     ]
    }
   ],
   "source": [
    "n = 'José'\n",
    "i = 25\n",
    "\n",
    "print('Você se chama {} e tem {} anos de idade'.format(n, i))"
   ]
  },
  {
   "cell_type": "markdown",
   "id": "f6aa726d-393b-4c4e-8a36-fc0b8547a7b8",
   "metadata": {},
   "source": [
    "    Qual é o resultado calculado pelo Python para a expressão composta 3 * 5 + 4 ** 2?"
   ]
  },
  {
   "cell_type": "code",
   "execution_count": 9,
   "id": "c5de7fab-815a-4471-90a9-e62a9a453118",
   "metadata": {},
   "outputs": [
    {
     "data": {
      "text/plain": [
       "31"
      ]
     },
     "execution_count": 9,
     "metadata": {},
     "output_type": "execute_result"
    }
   ],
   "source": [
    "3 * 5 + 4 **2"
   ]
  },
  {
   "cell_type": "markdown",
   "id": "100575a3-acab-4c86-8d0c-30a89229dc5b",
   "metadata": {},
   "source": [
    "    Qual é o resultado calculado pelo Python para as expressões simples 19 // 2 e 19%2, respectivamente?\n",
    "\n"
   ]
  },
  {
   "cell_type": "code",
   "execution_count": 10,
   "id": "de6cf4c4-c54e-48f8-89d7-e56068488307",
   "metadata": {},
   "outputs": [
    {
     "data": {
      "text/plain": [
       "9"
      ]
     },
     "execution_count": 10,
     "metadata": {},
     "output_type": "execute_result"
    }
   ],
   "source": [
    "19 // 2"
   ]
  },
  {
   "cell_type": "code",
   "execution_count": 11,
   "id": "06729eb6-6e5d-4b9b-9e83-b3d46f6954ad",
   "metadata": {},
   "outputs": [
    {
     "data": {
      "text/plain": [
       "1"
      ]
     },
     "execution_count": 11,
     "metadata": {},
     "output_type": "execute_result"
    }
   ],
   "source": [
    "19 % 2"
   ]
  },
  {
   "cell_type": "code",
   "execution_count": 12,
   "id": "6f9dfb45-da10-43da-bd59-f419062aec15",
   "metadata": {},
   "outputs": [
    {
     "name": "stdin",
     "output_type": "stream",
     "text": [
      "Quantos anos você tem? 90\n"
     ]
    }
   ],
   "source": [
    " idade = int(input('Quantos anos você tem?'))"
   ]
  },
  {
   "cell_type": "code",
   "execution_count": null,
   "id": "1ce47b71-3e85-4aac-8b7d-5c02c3c0a8d9",
   "metadata": {},
   "outputs": [],
   "source": []
  }
 ],
 "metadata": {
  "kernelspec": {
   "display_name": "Python 3 (ipykernel)",
   "language": "python",
   "name": "python3"
  },
  "language_info": {
   "codemirror_mode": {
    "name": "ipython",
    "version": 3
   },
   "file_extension": ".py",
   "mimetype": "text/x-python",
   "name": "python",
   "nbconvert_exporter": "python",
   "pygments_lexer": "ipython3",
   "version": "3.10.6"
  }
 },
 "nbformat": 4,
 "nbformat_minor": 5
}
